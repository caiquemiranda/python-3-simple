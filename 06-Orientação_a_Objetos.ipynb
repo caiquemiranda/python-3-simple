{
 "cells": [
  {
   "attachments": {},
   "cell_type": "markdown",
   "metadata": {},
   "source": [
    "### Orientação a Objetos"
   ]
  },
  {
   "attachments": {},
   "cell_type": "markdown",
   "metadata": {},
   "source": [
    "#### O que é Orientação a Objetos?"
   ]
  },
  {
   "attachments": {},
   "cell_type": "markdown",
   "metadata": {},
   "source": [
    "A abordagem profissional para programação mudou de projetar sistemas com uma hierarquia de recursos definidos em funções em direção a uma abordagem orientada a objetos (OO). Nós veja aqui como o Python suporta totalmente a orientação a objetos.\n",
    "\n",
    "Neste livro, podemos apenas dar uma amostra de como os objetos são usados. Trabalhamos através de um exemplo e introduzir alguns dos conceitos mais básicos. Usamos alguns conceitos OO em nossa explicação, então você precisa de um conhecimento básico de OO para trabalhar nesta seção.\n",
    "\n",
    "No projeto OO, os sistemas são compostos de conjuntos colaborativos de objetos bem definidos. Em vez de uma funcionalidade fazer uso de outra função, um objeto envia um mensagem para outro objeto para atingir algum objetivo. A mensagem é, na verdade, uma chamada de função, mas a função (geralmente chamada de método) está associada ao objeto em questão e o comportamento do método depende da natureza do objeto.\n",
    "\n",
    "Você já encontrou objetos em muitos lugares. Na verdade, em Python tudo é um objeto; nós simplesmente não elaboramos essa visão OO do mundo. Por exemplo, uma cadeia tem vários métodos úteis:"
   ]
  },
  {
   "cell_type": "code",
   "execution_count": null,
   "metadata": {},
   "outputs": [],
   "source": [
    "newstring = text.upper() # uppercase the string\n",
    "newstring = text.lower() # lowercase the string\n",
    "newstring = text.split('\\n') # split lines"
   ]
  },
  {
   "attachments": {},
   "cell_type": "markdown",
   "metadata": {},
   "source": [
    "As funções de string retornam uma nova variável - o novo objeto - às vezes chamado de instance2 da classe string. O objeto (a nova string) é a saída do método chamado na corda original."
   ]
  },
  {
   "attachments": {},
   "cell_type": "markdown",
   "metadata": {},
   "source": [
    "Em objetos mais complexos, o próprio objeto possui atributos ou propriedades que podemos definir e obter. 3 Podemos criar um objeto pessoa, por exemplo. As funções ou métodos que um objeto de pessoa permite incluiria um método new ou create, bem como vários conjuntos métodos e métodos get; por exemplo:"
   ]
  },
  {
   "cell_type": "code",
   "execution_count": null,
   "metadata": {},
   "outputs": [],
   "source": [
    "fred=customer(name='Fred') # criar novo cliente\n",
    "fred.setAge(49) # muda a idade para 49\n",
    "fred.gender='Masculino' # Fred é masculino\n",
    "cdate=fred.getCreateDate() # obtém a data de criação\n",
    "age = fred.getAge() # obtém a idade de Fred\n",
    "del fred # Fred não queria mais L"
   ]
  },
  {
   "attachments": {},
   "cell_type": "markdown",
   "metadata": {},
   "source": [
    "No exemplo anterior, você pode ver que havia alguns métodos get e set que obtêm e defina os atributos de Fred, como sua idade e data de criação. Sua idade e data de criação não podemser acessado diretamente, exceto por meio dessas funções get e set simples.\n",
    "\n",
    "Porém, havia um atributo que poderia ser examinado diretamente: fred.gender . Isto não era um método porque não havia parênteses associados quando o referenciamos. Podemos acessar esse atributo diretamente e podemos defini-lo como qualquer outra variável por meio de uma tarefa."
   ]
  },
  {
   "attachments": {},
   "cell_type": "markdown",
   "metadata": {},
   "source": [
    "#### Criando Objetos Usando Classes"
   ]
  },
  {
   "attachments": {},
   "cell_type": "markdown",
   "metadata": {},
   "source": [
    "Em nosso código Python, um novo objeto é definido referindo-se a uma classe. Da mesma forma que podemos criar tipos int() , list() e str() , podemos definir nossos próprios tipos mais complexos objetos usando uma definição de classe.\n",
    "\n",
    "Uma definição de classe é um modelo para um novo objeto. Define o mecanismo e os dados necessários para criar uma nova instância dessa classe, seus atributos (privados e públicos) e os métodos que podem ser usados para definir e obter atributos ou alterar o estado do objeto.\n",
    "\n",
    "Observe que não estamos recomendando isso como uma implementação perfeita de uma pessoa aula; é apenas um exemplo para ilustrar o uso de definições de classe, atributos de objeto e métodos."
   ]
  },
  {
   "attachments": {},
   "cell_type": "markdown",
   "metadata": {},
   "source": [
    "O módulo que define a classe person é o `people.py` :"
   ]
  },
  {
   "cell_type": "code",
   "execution_count": 2,
   "metadata": {},
   "outputs": [],
   "source": [
    "from datetime import datetime\n",
    "\n",
    "class person(object):\n",
    "    \"Person Class\"\n",
    "\n",
    "    def __init__(self,name,age,parent=None):\n",
    "        self.name=name\n",
    "        self.age=age\n",
    "        self.created=datetime.today()\n",
    "        self.parent=parent\n",
    "        self.children=[]\n",
    "        \n",
    "        print('Created',self.name,'age',self.age)\n",
    "\n",
    "    def setName(self,name):\n",
    "        self.name=name\n",
    "        print('Updated name',self.name)\n",
    "\n",
    "    def setAge(self,age):\n",
    "        self.age=age\n",
    "        print('Updated age',self.age)\n",
    "\n",
    "    def addChild(self,name,age):\n",
    "        child=person(name,age,parent=self)\n",
    "        self.children.append(child)\n",
    "        print(self.name,'added child',child.name)\n",
    "\n",
    "    def listChildren(self):\n",
    "        \n",
    "        if len(self.children)>0:\n",
    "            print(self.name,'has children:')\n",
    "        \n",
    "            for c in self.children:\n",
    "                print(' ',c.name)\n",
    "        \n",
    "        else:\n",
    "            print(self.name,'has no children')\n",
    "\n",
    "    def getChildren(self):\n",
    "        return self.children"
   ]
  },
  {
   "attachments": {},
   "cell_type": "markdown",
   "metadata": {},
   "source": [
    "* A linha 1 importa os módulos de data/hora e impressão que precisaremos mais tarde.\n",
    "\n",
    "* A linha 3 inicia a definição da classe. Nós usamos o objeto genérico tipo, mas as classes podem criar subclasses e herdar os atributos e métodos de outra classe pai.\n",
    "\n",
    "* As linhas 5 a 11 criam um novo objeto. Python não precisa de um método “novo”: Quando o objeto é criado, o Python procura por um método _init__() para inicializar o objeto. Os argumentos passados através da chamada de criação são usados aqui para inicializar o objeto atributos. 4\n",
    "\n",
    "* Os dois métodos nas linhas 13 a 19 atualizam o objeto nome e idade do atributo.\n",
    "\n",
    "* Nas linhas 21 a 24, o método addChild cria um novo pessoa que é filha da pessoa atual. Os objetos das crianças são armazenados em um atributo children , que é uma lista da pessoa objetos para cada criança.\n",
    "\n",
    "* Nas linhas 26 a 32, o método listChildren imprime o nomes dos filhos dessa pessoa.\n",
    "\n",
    "* Nas linhas 34 e 35, o método getChildren retorna uma lista contendo os filhos desta pessoa."
   ]
  },
  {
   "attachments": {},
   "cell_type": "markdown",
   "metadata": {},
   "source": [
    "Escrevemos um programa que testa a classe person chamada testpeople.py . Para mostrar o output inline, colei o código no interpretador. Os comentários incorporados devem explicar o que está acontecendo."
   ]
  },
  {
   "cell_type": "code",
   "execution_count": 3,
   "metadata": {},
   "outputs": [],
   "source": [
    "from script.people import person"
   ]
  },
  {
   "cell_type": "code",
   "execution_count": 4,
   "metadata": {},
   "outputs": [
    {
     "name": "stdout",
     "output_type": "stream",
     "text": [
      "Created Joe Bloggs age 47\n"
     ]
    }
   ],
   "source": [
    "# cria uma nova instância da classe pessoa\n",
    "# para Joe Bloggs, 47 anos\n",
    "\n",
    "joe = person('Joe Bloggs',47)"
   ]
  },
  {
   "cell_type": "code",
   "execution_count": 5,
   "metadata": {},
   "outputs": [
    {
     "name": "stdout",
     "output_type": "stream",
     "text": [
      "Joe's age is 47\n",
      "Joe's full name is  Joe Bloggs\n"
     ]
    }
   ],
   "source": [
    "# use o atributo age para verificar\n",
    "# idade do Joe\n",
    "\n",
    "print(\"Joe's age is\",joe.age)\n",
    "print(\"Joe's full name is \",joe.name)"
   ]
  },
  {
   "cell_type": "code",
   "execution_count": 6,
   "metadata": {},
   "outputs": [
    {
     "name": "stdout",
     "output_type": "stream",
     "text": [
      "Created Dick age 7\n",
      "Joe Bloggs added child Dick\n",
      "Created Dora age 9\n",
      "Joe Bloggs added child Dora\n"
     ]
    }
   ],
   "source": [
    "# adicionar filhos Dick e Dora\n",
    "\n",
    "joe.addChild('Dick',7)\n",
    "joe.addChild('Dora',9)"
   ]
  },
  {
   "cell_type": "code",
   "execution_count": 7,
   "metadata": {},
   "outputs": [
    {
     "name": "stdout",
     "output_type": "stream",
     "text": [
      "Joe Bloggs has children:\n",
      "  Dick\n",
      "  Dora\n"
     ]
    }
   ],
   "source": [
    "# use o método listChildren para listá-los\n",
    "\n",
    "joe.listChildren()"
   ]
  },
  {
   "cell_type": "code",
   "execution_count": 8,
   "metadata": {},
   "outputs": [],
   "source": [
    "# obtém a variável de lista contendo os filhos de Joe\n",
    "\n",
    "joekids=joe.getChildren()"
   ]
  },
  {
   "cell_type": "code",
   "execution_count": 9,
   "metadata": {},
   "outputs": [
    {
     "name": "stdout",
     "output_type": "stream",
     "text": [
      "** Joe's attributes **\n",
      "{'name': 'Joe Bloggs', 'age': 47, 'created': datetime.datetime(2023, 7, 2, 19, 54, 19, 651865), 'parent': None, 'children': [<script.people.person object at 0x000002116847E0B0>, <script.people.person object at 0x00000211697F3850>]}\n"
     ]
    }
   ],
   "source": [
    "# imprime os detalhes de Joe.\n",
    "# NB a função vars() lista os valores\n",
    "# dos atributos do objeto\n",
    "\n",
    "print(\"** Joe's attributes **\")\n",
    "print(vars(joe))"
   ]
  },
  {
   "cell_type": "code",
   "execution_count": 10,
   "metadata": {},
   "outputs": [
    {
     "name": "stdout",
     "output_type": "stream",
     "text": [
      "** Joe's Children **\n",
      "Dick attributes\n",
      "{'name': 'Dick', 'age': 7, 'created': datetime.datetime(2023, 7, 2, 19, 54, 19, 683810), 'parent': <script.people.person object at 0x000002116847D900>, 'children': []}\n",
      "Dora attributes\n",
      "{'name': 'Dora', 'age': 9, 'created': datetime.datetime(2023, 7, 2, 19, 54, 19, 684810), 'parent': <script.people.person object at 0x000002116847D900>, 'children': []}\n"
     ]
    }
   ],
   "source": [
    "# imprimir os detalhes de seus filhos\n",
    "# da lista que obtivemos anteriormente\n",
    "\n",
    "print(\"** Joe's Children **\")\n",
    "for j in joekids:\n",
    "    print(j.name,'attributes')\n",
    "    print(vars(j))"
   ]
  },
  {
   "attachments": {},
   "cell_type": "markdown",
   "metadata": {},
   "source": [
    "* A linha 1 importa o módulo que precisamos.\n",
    "  \n",
    "* A linha 6 cria uma pessoa chamada Joe Bloggs.\n",
    "\n",
    "* As linhas 12 a 15 imprimem os detalhes de Joe Bloggs.\n",
    "\n",
    "* As linhas 19 a 24 adicionam dois filhos ao registro de Joe. Observe que o A classe pessoa adiciona novos objetos pessoa para cada filho.\n",
    "\n",
    "* A linha 28 chama o método joe.listChildren() para listar os detalhes de filhos de Jo.\n",
    "\n",
    "* A linha 35 usa o método joe.getChildren() para obter uma lista de Os filhos de Joe se opõem.\n",
    "\n",
    "* As linhas 41 a 43 usam a função vars() para coletar o atributos do objeto joe. Você pode ver todas as variáveis definido para o objeto, incluindo uma lista dos filhos de Joe.\n",
    "\n",
    "* As linhas 51 a 53 percorrem a lista joekids imprimindo o atributos dos objetos filhos."
   ]
  },
  {
   "attachments": {},
   "cell_type": "markdown",
   "metadata": {},
   "source": [
    "A narrativa anterior dá uma ideia de como OO funciona na linguagem Python. OO é um tópico grande e complexo que requer uma explicação cuidadosa."
   ]
  },
  {
   "cell_type": "code",
   "execution_count": 11,
   "metadata": {},
   "outputs": [
    {
     "name": "stdout",
     "output_type": "stream",
     "text": [
      "Author: Caique Miranda\n",
      "\n",
      "Github username: caiquemiranda\n",
      "\n"
     ]
    }
   ],
   "source": [
    "%reload_ext watermark\n",
    "%watermark -a \"Caique Miranda\" -gu \"caiquemiranda\" -iv"
   ]
  },
  {
   "attachments": {},
   "cell_type": "markdown",
   "metadata": {},
   "source": [
    "### End."
   ]
  }
 ],
 "metadata": {
  "kernelspec": {
   "display_name": "Python 3",
   "language": "python",
   "name": "python3"
  },
  "language_info": {
   "codemirror_mode": {
    "name": "ipython",
    "version": 3
   },
   "file_extension": ".py",
   "mimetype": "text/x-python",
   "name": "python",
   "nbconvert_exporter": "python",
   "pygments_lexer": "ipython3",
   "version": "3.10.5"
  },
  "orig_nbformat": 4
 },
 "nbformat": 4,
 "nbformat_minor": 2
}
