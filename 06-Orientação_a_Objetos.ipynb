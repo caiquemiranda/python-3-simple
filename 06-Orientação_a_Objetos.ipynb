{
 "cells": [
  {
   "attachments": {},
   "cell_type": "markdown",
   "metadata": {},
   "source": [
    "### Orientação a Objetos"
   ]
  },
  {
   "attachments": {},
   "cell_type": "markdown",
   "metadata": {},
   "source": [
    "#### O que é Orientação a Objetos?"
   ]
  },
  {
   "attachments": {},
   "cell_type": "markdown",
   "metadata": {},
   "source": [
    "A abordagem profissional para programação mudou de projetar sistemas com uma hierarquia de recursos definidos em funções em direção a uma abordagem orientada a objetos (OO). Nós veja aqui como o Python suporta totalmente a orientação a objetos.\n",
    "\n",
    "Neste livro, podemos apenas dar uma amostra de como os objetos são usados. Trabalhamos através de um exemplo e introduzir alguns dos conceitos mais básicos. Usamos alguns conceitos OO em nossa explicação, então você precisa de um conhecimento básico de OO para trabalhar nesta seção.\n",
    "\n",
    "No projeto OO, os sistemas são compostos de conjuntos colaborativos de objetos bem definidos. Em vez de uma funcionalidade fazer uso de outra função, um objeto envia um mensagem para outro objeto para atingir algum objetivo. A mensagem é, na verdade, uma chamada de função, mas a função (geralmente chamada de método) está associada ao objeto em questão e o comportamento do método depende da natureza do objeto.\n",
    "\n",
    "Você já encontrou objetos em muitos lugares. Na verdade, em Python tudo é um objeto; nós simplesmente não elaboramos essa visão OO do mundo. Por exemplo, uma cadeia tem vários métodos úteis:"
   ]
  },
  {
   "cell_type": "code",
   "execution_count": null,
   "metadata": {},
   "outputs": [],
   "source": [
    "newstring = text.upper() # uppercase the string\n",
    "newstring = text.lower() # lowercase the string\n",
    "newstring = text.split('\\n') # split lines"
   ]
  },
  {
   "attachments": {},
   "cell_type": "markdown",
   "metadata": {},
   "source": [
    "As funções de string retornam uma nova variável - o novo objeto - às vezes chamado de instance2 da classe string. O objeto (a nova string) é a saída do método chamado na corda original."
   ]
  },
  {
   "attachments": {},
   "cell_type": "markdown",
   "metadata": {},
   "source": [
    "Em objetos mais complexos, o próprio objeto possui atributos ou propriedades que podemos definir e obter. 3 Podemos criar um objeto pessoa, por exemplo. As funções ou métodos que um objeto de pessoa permite incluiria um método new ou create, bem como vários conjuntos métodos e métodos get; por exemplo:"
   ]
  },
  {
   "cell_type": "code",
   "execution_count": null,
   "metadata": {},
   "outputs": [],
   "source": [
    "fred=customer(name='Fred') # create new customer\n",
    "fred.setAge(49) # change age to 49\n",
    "fred.gender='Male' # Fred is male\n",
    "cdate=fred.getCreateDate() # get the creation date\n",
    "age = fred.getAge() # get Fred's age\n",
    "del fred # Fred no longer wanted L"
   ]
  },
  {
   "attachments": {},
   "cell_type": "markdown",
   "metadata": {},
   "source": [
    "No exemplo anterior, você pode ver que havia alguns métodos get e set que obtêm e defina os atributos de Fred, como sua idade e data de criação. Sua idade e data de criação não podemser acessado diretamente, exceto por meio dessas funções get e set simples.\n",
    "\n",
    "Porém, havia um atributo que poderia ser examinado diretamente: fred.gender . Isto não era um método porque não havia parênteses associados quando o referenciamos. Podemos acessar esse atributo diretamente e podemos defini-lo como qualquer outra variável por meio de uma tarefa."
   ]
  },
  {
   "attachments": {},
   "cell_type": "markdown",
   "metadata": {},
   "source": [
    "#### Criando Objetos Usando Classes"
   ]
  },
  {
   "attachments": {},
   "cell_type": "markdown",
   "metadata": {},
   "source": [
    "Em nosso código Python, um novo objeto é definido referindo-se a uma classe. Da mesma forma que podemos criar tipos int() , list() e str() , podemos definir nossos próprios tipos mais complexos objetos usando uma definição de classe.\n",
    "\n",
    "Uma definição de classe é um modelo para um novo objeto. Define o mecanismo e os dados necessários para criar uma nova instância dessa classe, seus atributos (privados e públicos) e os métodos que podem ser usados para definir e obter atributos ou alterar o estado do objeto.\n",
    "\n",
    "Observe que não estamos recomendando isso como uma implementação perfeita de uma pessoa aula; é apenas um exemplo para ilustrar o uso de definições de classe, atributos de objeto e métodos."
   ]
  },
  {
   "attachments": {},
   "cell_type": "markdown",
   "metadata": {},
   "source": [
    "O módulo que define a classe person é o `people.py` :"
   ]
  },
  {
   "cell_type": "code",
   "execution_count": null,
   "metadata": {},
   "outputs": [],
   "source": [
    "from datetime import datetime\n",
    "\n",
    "class person(object):\n",
    "    \"Person Class\"\n",
    "\n",
    "    def __init__(self,name,age,parent=None):\n",
    "        self.name=name\n",
    "        self.age=age\n",
    "        self.created=datetime.today()\n",
    "        self.parent=parent\n",
    "        self.children=[]\n",
    "        \n",
    "        print('Created',self.name,'age',self.age)\n",
    "\n",
    "    def setName(self,name):\n",
    "        self.name=name\n",
    "        print('Updated name',self.name)\n",
    "\n",
    "    def setAge(self,age):\n",
    "        self.age=age\n",
    "        print('Updated age',self.age)\n",
    "\n",
    "    def addChild(self,name,age):\n",
    "        child=person(name,age,parent=self)\n",
    "        self.children.append(child)\n",
    "        print(self.name,'added child',child.name)\n",
    "\n",
    "    def listChildren(self):\n",
    "        \n",
    "        if len(self.children)>0:\n",
    "            print(self.name,'has children:')\n",
    "        \n",
    "            for c in self.children:\n",
    "                print(' ',c.name)\n",
    "        \n",
    "        else:\n",
    "            print(self.name,'has no children')\n",
    "\n",
    "    def getChildren(self):\n",
    "        return self.children"
   ]
  },
  {
   "attachments": {},
   "cell_type": "markdown",
   "metadata": {},
   "source": [
    "* A linha 1 importa os módulos de data/hora e impressão que precisaremos\n",
    "mais tarde.\n",
    "* A linha 3 inicia a definição da classe. Nós usamos o objeto genérico\n",
    "tipo, mas as classes podem criar subclasses e herdar os atributos e\n",
    "métodos de outra classe pai.\n",
    "* As linhas 5 a 11 criam um novo objeto. Python não precisa de um\n",
    "método “novo”: Quando o objeto é criado, o Python procura por um\n",
    "método _init__() para inicializar o objeto. Os argumentos passados\n",
    "através da chamada de criação são usados aqui para inicializar o objeto\n",
    "atributos. 4\n",
    "* Os dois métodos nas linhas 13 a 19 atualizam o objeto\n",
    "nome e idade do atributo.\n",
    "* Nas linhas 21 a 24, o método addChild cria um novo\n",
    "pessoa que é filha da pessoa atual. Os objetos das crianças\n",
    "são armazenados em um atributo children , que é uma lista da pessoa\n",
    "objetos para cada criança.\n",
    "* Nas linhas 26 a 32, o método listChildren imprime o\n",
    "nomes dos filhos dessa pessoa.\n",
    "* Nas linhas 34 e 35, o método getChildren retorna uma lista\n",
    "contendo os filhos desta pessoa."
   ]
  },
  {
   "attachments": {},
   "cell_type": "markdown",
   "metadata": {},
   "source": [
    "Escrevemos um programa que testa a classe person chamada testpeople.py . Para mostrar o\n",
    "output inline, colei o código no interpretador. Os comentários incorporados devem\n",
    "explicar o que está acontecendo."
   ]
  },
  {
   "cell_type": "code",
   "execution_count": null,
   "metadata": {},
   "outputs": [],
   "source": [
    "from script.people import person"
   ]
  },
  {
   "cell_type": "code",
   "execution_count": null,
   "metadata": {},
   "outputs": [],
   "source": [
    "# create a new instance of class person\n",
    "# for Joe Bloggs, age 47\n",
    "\n",
    "joe = person('Joe Bloggs',47)"
   ]
  },
  {
   "cell_type": "code",
   "execution_count": null,
   "metadata": {},
   "outputs": [],
   "source": [
    "# use the age attribute to verify\n",
    "# Joe's age\n",
    "\n",
    "print(\"Joe's age is\",joe.age)\n",
    "print(\"Joe's full name is \",joe.name)"
   ]
  },
  {
   "cell_type": "code",
   "execution_count": null,
   "metadata": {},
   "outputs": [],
   "source": [
    "# add children Dick and Dora\n",
    "joe.addChild('Dick',7)\n",
    "\n",
    "joe.addChild('Dora',9)"
   ]
  },
  {
   "cell_type": "code",
   "execution_count": null,
   "metadata": {},
   "outputs": [],
   "source": [
    "# use the listChildren method to list them\n",
    "\n",
    "joe.listChildren()"
   ]
  },
  {
   "cell_type": "code",
   "execution_count": null,
   "metadata": {},
   "outputs": [],
   "source": [
    "# get the list variable containing Joe's children\n",
    "\n",
    "joekids=joe.getChildren()"
   ]
  },
  {
   "cell_type": "code",
   "execution_count": null,
   "metadata": {},
   "outputs": [],
   "source": [
    "# print Joe's details.\n",
    "# NB the vars() function lists the values\n",
    "# of the object attributes\n",
    "\n",
    "print(\"** Joe's attributes **\")\n",
    "print(vars(joe))"
   ]
  },
  {
   "cell_type": "code",
   "execution_count": null,
   "metadata": {},
   "outputs": [],
   "source": [
    "# print the details of his children\n",
    "# from the list we obtained earlier\n",
    "\n",
    "print(\"** Joe's Children **\")\n",
    "for j in joekids:\n",
    "    print(j.name,'attributes')\n",
    "    print(vars(j))"
   ]
  },
  {
   "attachments": {},
   "cell_type": "markdown",
   "metadata": {},
   "source": [
    "* Line 1 imports the module we need.\n",
    "* Line 6 creates a person by the name of Joe Bloggs.\n",
    "* Lines 12 through 15 print Joe Bloggs’s details.\n",
    "* Lines 19 through 24 add two children to Joe’s record. Note that the\n",
    "person class adds new person objects for each child.\n",
    "* Line 28 calls the joe.listChildren() method to list the details of\n",
    "Joe’s children.\n",
    "* Line 35 uses the joe.getChildren() method to obtain a list of\n",
    "Joe’s children objects.\n",
    "* Lines 41 through 43 use the vars() function to collect the\n",
    "attributes of the joe object. You can see all of the variables\n",
    "defined for the object, including a list of Joe’s children.\n",
    "* Lines 51 through 53 loop through the joekids list printing the\n",
    "attributes of the children objects."
   ]
  },
  {
   "attachments": {},
   "cell_type": "markdown",
   "metadata": {},
   "source": [
    "The preceding narrative gives you a flavor of how OO works in the Python language.\n",
    "OO is a large and complex topic that requires careful explanation."
   ]
  },
  {
   "cell_type": "code",
   "execution_count": null,
   "metadata": {},
   "outputs": [],
   "source": [
    "%reload_ext watermark\n",
    "%watermark -a \"Caique Miranda\" -gu \"caiquemiranda\" -iv"
   ]
  },
  {
   "attachments": {},
   "cell_type": "markdown",
   "metadata": {},
   "source": [
    "### End."
   ]
  }
 ],
 "metadata": {
  "kernelspec": {
   "display_name": "Python 3",
   "language": "python",
   "name": "python3"
  },
  "language_info": {
   "name": "python",
   "version": "3.10.5"
  },
  "orig_nbformat": 4
 },
 "nbformat": 4,
 "nbformat_minor": 2
}
