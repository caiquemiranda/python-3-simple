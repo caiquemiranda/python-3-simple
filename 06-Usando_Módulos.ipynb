{
 "cells": [
  {
   "attachments": {},
   "cell_type": "markdown",
   "metadata": {},
   "source": [
    "### Usando Módulos"
   ]
  },
  {
   "attachments": {},
   "cell_type": "markdown",
   "metadata": {},
   "source": [
    "Depois de ter mais de cem (ou várias centenas) linhas de código em um arquivo Python, pode ser um pouco confuso gerenciar todas as funções e classes no mesmo lugar. \n",
    "\n",
    "Dividindo seu código em dois ou mais arquivos de módulo, cada um cobrindo um aspecto da funcionalidade\n",
    "pode simplificar muito as coisas.\n",
    "\n",
    "Os recursos e funções na biblioteca padrão (e outras bibliotecas que você pode baixar e usar de vez em quando) são disponibilizados para seus programas como módulos usando a declaração de importação.\n",
    "\n",
    "Esteja você usando seus próprios módulos desenvolvidos em casa ou as bibliotecas padrão, o mecanismo para incluir o código é o mesmo."
   ]
  },
  {
   "attachments": {},
   "cell_type": "markdown",
   "metadata": {},
   "source": [
    "#### Importando código de um módulo"
   ]
  },
  {
   "attachments": {},
   "cell_type": "markdown",
   "metadata": {},
   "source": [
    "A declaração de importação tem este formato:\n",
    "\n",
    "```\n",
    "import nomeModulo [ como nome ]\n",
    "```\n",
    "\n",
    "Esta instrução importa o módulo modulename. A parte opcional `'como nome'` permite você faça referência a esse módulo com um nome diferente em seu código. Se esta declaração funcionar sem erro, todas as funções e classes desse módulo estarão disponíveis para uso."
   ]
  },
  {
   "attachments": {},
   "cell_type": "markdown",
   "metadata": {},
   "source": [
    "##### Os módulos vêm do caminho do Python"
   ]
  },
  {
   "attachments": {},
   "cell_type": "markdown",
   "metadata": {},
   "source": [
    "Quando o Python encontra uma instrução `import nomeModulo`, ele procura um arquivo chamado `nomeModulo.py` para carregar. Não parece em qualquer lugar. Python tem uma variável interna chamado de caminho do Python. Você pode ver o que é examinando a variável `sys.path`. A interação a seguir mostra o caminho em uma máquina Windows."
   ]
  },
  {
   "cell_type": "code",
   "execution_count": null,
   "metadata": {},
   "outputs": [],
   "source": [
    "import sys\n",
    "\n",
    "sys.path"
   ]
  },
  {
   "attachments": {},
   "cell_type": "markdown",
   "metadata": {},
   "source": [
    "1 A instrução de importação assume que seus arquivos de módulo terminam com '.py' ."
   ]
  },
  {
   "attachments": {},
   "cell_type": "markdown",
   "metadata": {},
   "source": [
    "O caminho do Python é uma lista de diretórios configurada pela instalação do Python processo, mas você também pode acessar e alterar o caminho para atender às suas circunstâncias.\n",
    "\n",
    "Quando você instala outras bibliotecas (por exemplo, do PyPI), o caminho pode ser atualizado. Se você mantenha todo o seu código Python em um só lugar (no mesmo diretório atual), você nunca precisa alterar o caminho do Python. Você só precisa se preocupar com o caminho do Python se estiver lidando com muitos módulos em diferentes locais."
   ]
  },
  {
   "attachments": {},
   "cell_type": "markdown",
   "metadata": {},
   "source": [
    "##### Criando e usando seus próprios módulos"
   ]
  },
  {
   "attachments": {},
   "cell_type": "markdown",
   "metadata": {},
   "source": [
    "Criando e usando seus próprios módulos\n",
    "\n",
    "Vamos supor que você tenha um módulo com código Python chamado `mod1.py` ; o nome do módulo em seu código será mod1 . Você também tem um arquivo de programa chamado `testmod.py` . vamos veja alguns códigos de exemplo em cada arquivo."
   ]
  },
  {
   "cell_type": "code",
   "execution_count": 3,
   "metadata": {},
   "outputs": [],
   "source": [
    "# Este é script/mod1.py :\n",
    "\n",
    "def ola():\n",
    "    print('Olá')\n",
    "\n",
    "escrito_por = 'Caique'\n",
    "\n",
    "class saudacao():\n",
    "    \n",
    "    def manha(self):\n",
    "        print('Bom dia!')\n",
    "    \n",
    "    def noite(self):\n",
    "        print('Boa noite!')"
   ]
  },
  {
   "attachments": {},
   "cell_type": "markdown",
   "metadata": {},
   "source": [
    "Agora, suponha que temos um programa de teste `mod1test1.py`:"
   ]
  },
  {
   "cell_type": "code",
   "execution_count": 6,
   "metadata": {},
   "outputs": [
    {
     "name": "stdout",
     "output_type": "stream",
     "text": [
      "Caique\n",
      "Olá\n",
      "escrito_por =  Caique\n",
      "Bom dia!\n",
      "Boa noite!\n"
     ]
    }
   ],
   "source": [
    "import script.mod1 as m1\n",
    "\n",
    "print(escrito_por)\n",
    "\n",
    "m1.ola()\n",
    "print('escrito_por = ', m1.escrito_por)\n",
    "\n",
    "greet = m1.saudacao()\n",
    "greet.manha()\n",
    "greet.noite()"
   ]
  },
  {
   "attachments": {},
   "cell_type": "markdown",
   "metadata": {},
   "source": [
    "Agora, você pode ver na linha 1 que importamos mod1 como m1 . Isso significa que o código no módulo mod1 é referenciado usando o prefixo m1. Se tivéssemos apenas importado o módulo, usaríamos o prefixo mod1 . Ao executarmos esse código, obtemos o seguinte resultado:"
   ]
  },
  {
   "cell_type": "code",
   "execution_count": null,
   "metadata": {},
   "outputs": [],
   "source": [
    "%run script/mod1test1.py"
   ]
  },
  {
   "cell_type": "code",
   "execution_count": 8,
   "metadata": {},
   "outputs": [
    {
     "name": "stdout",
     "output_type": "stream",
     "text": [
      "Olá\n",
      "escrito por =  xxx\n",
      "Caique\n",
      "Bom dia!\n",
      "Boa noite!\n"
     ]
    }
   ],
   "source": [
    "from script.mod1 import saudacao, ola, escrito_por\n",
    "\n",
    "ola()\n",
    "ola.escrito_por = 'Miranda'\n",
    "\n",
    "print('escrito por = ', ola.escrito_por)\n",
    "print(escrito_por)\n",
    "\n",
    "greet = saudacao()\n",
    "greet.manha()\n",
    "greet.noite()"
   ]
  },
  {
   "attachments": {},
   "cell_type": "markdown",
   "metadata": {},
   "source": [
    "In this case we have imported the function and class using this format:"
   ]
  },
  {
   "cell_type": "code",
   "execution_count": null,
   "metadata": {},
   "outputs": [],
   "source": [
    "from module import function1, function2…"
   ]
  },
  {
   "attachments": {},
   "cell_type": "markdown",
   "metadata": {},
   "source": [
    "Ao executarmos esse código, obtemos o seguinte resultado:"
   ]
  },
  {
   "cell_type": "code",
   "execution_count": null,
   "metadata": {},
   "outputs": [],
   "source": [
    "D:\\LeanPython\\programs>python mod1test2.py\n",
    "hello\n",
    "written by xxx\n",
    "Paul\n",
    "Good Morning!\n",
    "Good Evening!"
   ]
  },
  {
   "attachments": {},
   "cell_type": "markdown",
   "metadata": {},
   "source": [
    "You can see that the import format allows us to drop the prefix for the imported\n",
    "functions.\n",
    "We now import only what we want and we also can name the imported functions\n",
    "and classes without the prefix. We could also have used the format:"
   ]
  },
  {
   "cell_type": "code",
   "execution_count": null,
   "metadata": {},
   "outputs": [],
   "source": [
    "from module import *"
   ]
  },
  {
   "attachments": {},
   "cell_type": "markdown",
   "metadata": {},
   "source": [
    "In this alternative we import all the functions and classes from the module. The\n",
    "result would have been the same for mod1test2.py ; there would be no need for prefixes.\n",
    "When we import from the standard libraries, which often have a large number of\n",
    "functions and classes, it is more efficient to work this way."
   ]
  },
  {
   "attachments": {},
   "cell_type": "markdown",
   "metadata": {},
   "source": [
    "Note In general, name your imported modules and import only what you need; that is,\n",
    "avoid \"import *\" ."
   ]
  },
  {
   "cell_type": "code",
   "execution_count": null,
   "metadata": {},
   "outputs": [],
   "source": [
    "%reload_ext watermark\n",
    "%watermark -a \"Caique Miranda\" -gu \"caiquemiranda\" -iv"
   ]
  },
  {
   "attachments": {},
   "cell_type": "markdown",
   "metadata": {},
   "source": [
    "### End."
   ]
  }
 ],
 "metadata": {
  "kernelspec": {
   "display_name": "Python 3",
   "language": "python",
   "name": "python3"
  },
  "language_info": {
   "codemirror_mode": {
    "name": "ipython",
    "version": 3
   },
   "file_extension": ".py",
   "mimetype": "text/x-python",
   "name": "python",
   "nbconvert_exporter": "python",
   "pygments_lexer": "ipython3",
   "version": "3.10.5"
  },
  "orig_nbformat": 4
 },
 "nbformat": 4,
 "nbformat_minor": 2
}
