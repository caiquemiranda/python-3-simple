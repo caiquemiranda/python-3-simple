{
 "cells": [
  {
   "attachments": {},
   "cell_type": "markdown",
   "metadata": {},
   "source": [
    "### Tratamento de exceções e erros"
   ]
  },
  {
   "attachments": {},
   "cell_type": "markdown",
   "metadata": {},
   "source": [
    "#### Exceções e Erros"
   ]
  },
  {
   "attachments": {},
   "cell_type": "markdown",
   "metadata": {},
   "source": [
    "As coisas podem dar errado em seu código por vários motivos. Uma razão é que o programador escreveu algum código que está com defeito. Falhas, defeitos e bugs são rótulos que colocamos em aspectos do código do nosso programa que não estão corretos. As falhas ocorrem porque nós, como programadores, não são perfeitos. Somos humanos e sempre vamos errar algumas coisas. No início de sua carreira de programação, você aprenderá que nem tudo é fácil.\n",
    "\n",
    "Às vezes, você pode controlar os dados de entrada e o comportamento de seus programas, mas o grande número de maneiras pelas quais seu código pode ser tratado como uma bola curva oprime sua capacidade de lidar com eles. Desse desafio surgiu a abordagem chamada defesa programação.\n",
    "\n",
    "A programação defensiva não é uma abordagem tímida ou uma atitude sem brilho. é uma disciplina que aborda a possibilidade de falha de frente. Uma parte significativa desta disciplina é a implementação efetiva de tratamento de erros e exceções.\n",
    "\n",
    "Vejamos um exemplo. Suponha que você tenha algum código que implemente a divisão operação como esta:"
   ]
  },
  {
   "cell_type": "code",
   "execution_count": null,
   "metadata": {},
   "outputs": [],
   "source": [
    "# quociente = a / b"
   ]
  },
  {
   "attachments": {},
   "cell_type": "markdown",
   "metadata": {},
   "source": [
    "O que poderia dar errado? Bem, o problema óbvio ocorre se o valor de b for zero. O que veríamos?"
   ]
  },
  {
   "cell_type": "code",
   "execution_count": null,
   "metadata": {},
   "outputs": [],
   "source": [
    "quociente = 73 / 0.0"
   ]
  },
  {
   "attachments": {},
   "cell_type": "markdown",
   "metadata": {},
   "source": [
    "O que poderia dar errado? Bem, o problema óbvio ocorre se o valor de b for zero. O que seria wO texto ZeroDivisionError: divisão flutuante por zero é o que nos interessa in. O interpretador Python gera um erro ZeroDivisionError e fornece um erro mensagem, ainda que bastante concisa.\n",
    "\n",
    "Se esse fragmento de código estivesse no meio de um programa, o programa falharia e terminar. Isso não é muito útil para nós se quisermos que o programa lide com o erro e passar para o próximo cálculo. Usamos o termo tratamento de erros ou, mais frequentemente, exceção manipulação , para se referir a como fazemos isso.\n",
    "\n",
    "O Python tem muitos tipos de exceção integrados— ZeroDivisionError é apenas um deles— e podemos interceptar essas ocorrências e lidar com isso em nosso código. Aqui está um exemplo programa division.py :e ver?"
   ]
  },
  {
   "cell_type": "code",
   "execution_count": null,
   "metadata": {},
   "outputs": [],
   "source": [
    "# divisionHandled.py.\n",
    "\n",
    "print('Insira dois números. o primeiro será dividido pelo segundo')\n",
    "\n",
    "um_primeiro = input('primeiro número:')\n",
    "primeiro = float(um_primeiro)\n",
    "\n",
    "um_segundo = input('segundo número:')\n",
    "segundo = float(um_segundo)\n",
    "\n",
    "quociente = primeiro / segundo\n",
    "print('Quociente primeiro / segundo = ', quociente)"
   ]
  },
  {
   "attachments": {},
   "cell_type": "markdown",
   "metadata": {},
   "source": [
    "Se você executar isso, digite, digamos, 1 e 2, você obterá um resultado de 0,5, sem problemas. Se você digitar 1 e 0, você obtém a mensagem ZeroDivisionError novamente. Aqui está uma nova versão do programa, divisionHandled.py."
   ]
  },
  {
   "cell_type": "code",
   "execution_count": null,
   "metadata": {},
   "outputs": [],
   "source": [
    "print('Input two numbers. The first will be divided by the second')\n",
    "\n",
    "um_primeiro = input('1st number:')\n",
    "asecond = input('2nd number:')\n",
    "\n",
    "try:\n",
    "    primeiro=float(um_primeiro)\n",
    "    second = float(um_segundo)\n",
    "    quotient = primeiro / second\n",
    "    print('Quotient 1st/2nd = ',quotient)\n",
    "\n",
    "except Exception as diag:\n",
    "    print(diag.__class__.__name__,':',diag)"
   ]
  },
  {
   "attachments": {},
   "cell_type": "markdown",
   "metadata": {},
   "source": [
    "Nesse caso, incluímos parte do código (os dois números text-to-float conversões e a divisão) dentro de uma cláusula try: na linha 6. Se houver algum código dentro de try: cláusula gera um erro, ela é capturada pela cláusula except : na linha 12.\n",
    "\n",
    "A cláusula except: identifica um tipo de exceção e, opcionalmente, uma variável na qual os dados de exceção são armazenados. Exception é a classe de nível superior para o tipo de erro, então ela captura todos os erros. No bloco de código exceto, o código imprime o `diag.__class__.__name__` atributo, que nomeia o tipo de erro."
   ]
  },
  {
   "attachments": {},
   "cell_type": "markdown",
   "metadata": {},
   "source": [
    "Até agora tudo bem. Se você jogar com este programa, pode tentar inserir dados ruins, como mostrado aqui."
   ]
  },
  {
   "cell_type": "code",
   "execution_count": null,
   "metadata": {},
   "outputs": [],
   "source": [
    "%run  divisionHandled.py"
   ]
  },
  {
   "cell_type": "code",
   "execution_count": null,
   "metadata": {},
   "outputs": [],
   "source": [
    "%run divisionHandled.py"
   ]
  },
  {
   "attachments": {},
   "cell_type": "markdown",
   "metadata": {},
   "source": [
    "Na primeira execução, o código de conversão flutuante falha. Sabemos que é a primeira conversão por olhando o código, mas um usuário final que não conhece o código pode ficar confuso. Em geral, portanto, recomenda-se que:\n",
    "\n",
    "* Lidamos com erros específicos em vez de ter um pega-tudo.\n",
    "* Dê a cada seção de código seu próprio manipulador de exceção para localizar o erro.\n",
    "\n",
    "Aqui está a versão final do nosso código totalmente tratado com erros: divisionHandledV2.py ."
   ]
  },
  {
   "cell_type": "code",
   "execution_count": null,
   "metadata": {},
   "outputs": [],
   "source": [
    "print('Input two numbers. The first will be divided by the second')\n",
    "\n",
    "afirst = input('1st number:')\n",
    "\n",
    "try:\n",
    "    first=float(afirst)\n",
    "    asecond = input('2nd number:')\n",
    "\n",
    "    try:\n",
    "        second = float(asecond)\n",
    "\n",
    "        try:\n",
    "            quotient = first / second\n",
    "            print('Quotient 1st/2nd = ',quotient)\n",
    "\n",
    "        except ZeroDivisionError as diag:\n",
    "            print(diag,': 2nd number must be non-zero')\n",
    "\n",
    "    except ValueError as diag:\n",
    "        print(diag,'2nd number')\n",
    "\n",
    "except ValueError as diag:\n",
    "    print(diag,'1st number')"
   ]
  },
  {
   "attachments": {},
   "cell_type": "markdown",
   "metadata": {},
   "source": [
    "A parte um pouco complicada é que é difícil saber quais tipos de erro ocorrerão até que você teste para eles, então a abordagem geral pode ser esta:\n",
    "\n",
    "* Primeiro, capture todas as exceções nos locais onde você espera que elas apareçam ocorrer.\n",
    "* Em segundo lugar, teste todas as exceções que você pode imaginar, acione-as, e anote onde eles ocorrem.\n",
    "* Para cada tipo de exceção que encontrar, crie uma cláusula de exceção específico para essa exceção.\n",
    "\n",
    "A propósito, observe que é possível interceptar vários tipos de exceção se você colocá-los em uma tupla; por exemplo:"
   ]
  },
  {
   "cell_type": "code",
   "execution_count": null,
   "metadata": {},
   "outputs": [],
   "source": [
    "except (ValueError, ZeroDivisionError) [as e]:"
   ]
  },
  {
   "attachments": {},
   "cell_type": "markdown",
   "metadata": {},
   "source": [
    "A alternativa óbvia para lidar com os erros que ocorrem é ser mais rigoroso no validação de dados de entrada. No exemplo anterior, pode ser uma alternativa melhor. Em algumas circunstâncias, porém, a exceção não pode ser verificada com antecedência porque os valores de dados que causam a exceção são o resultado de cálculos intermediários que pode não ser facilmente previsto.\n",
    "\n",
    "A gama de tipos de exceção é grande. Eles cobrem coisas como conversões de tipo, aritmética, E/S de arquivo, acesso ao banco de dados, dicionário e violações de elementos de lista e assim por diante. O a lista completa é apresentada no Apêndice."
   ]
  },
  {
   "cell_type": "code",
   "execution_count": null,
   "metadata": {},
   "outputs": [],
   "source": [
    "%reload_ext watermark\n",
    "%watermark -a \"Caique Miranda\" -gu \"caiquemiranda\" -iv"
   ]
  },
  {
   "attachments": {},
   "cell_type": "markdown",
   "metadata": {},
   "source": [
    "### End."
   ]
  }
 ],
 "metadata": {
  "language_info": {
   "name": "python"
  },
  "orig_nbformat": 4
 },
 "nbformat": 4,
 "nbformat_minor": 2
}
