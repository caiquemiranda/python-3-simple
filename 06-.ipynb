{
 "cells": [
  {
   "attachments": {},
   "cell_type": "markdown",
   "metadata": {},
   "source": [
    "### Object Orientation"
   ]
  },
  {
   "attachments": {},
   "cell_type": "markdown",
   "metadata": {},
   "source": [
    "#### What Is Object Orientation ?"
   ]
  },
  {
   "attachments": {},
   "cell_type": "markdown",
   "metadata": {},
   "source": [
    "The professional approach to programming has shifted away from designing systems with\n",
    "a hierarchy of features defined in functions toward an object-oriented (OO) approach. We\n",
    "look here at how Python fully supports object orientation.\n",
    "\n",
    "In this book, we can only give a flavor of how objects are used. We work through an\n",
    "example and introduce some of the most basic concepts. We use some OO concepts in\n",
    "our explanation so you need a basic understanding of OO to work through this section.\n",
    "\n",
    "In OO design, systems are composed of collaborating sets of well-defined objects.\n",
    "Rather than one piece of functionality making use of another function, one object sends a\n",
    "message to another object to achieve some goal. The message is in effect a function call,\n",
    "but the function (usually called a method) is associated with the object in question and\n",
    "the behavior of the method depends on the nature of the object.\n",
    "\n",
    "You have already come across objects in many places. In fact, in Python everything is\n",
    "an object; we just haven’t elaborated on this OO view of the world. For example, a string\n",
    "has several useful methods:"
   ]
  },
  {
   "cell_type": "code",
   "execution_count": null,
   "metadata": {},
   "outputs": [],
   "source": [
    "newstring = text.upper() # uppercase the string\n",
    "newstring = text.lower() # lowercase the string\n",
    "newstring = text.split('\\n') # split lines"
   ]
  },
  {
   "attachments": {},
   "cell_type": "markdown",
   "metadata": {},
   "source": [
    "The string functions return a new variable—the new object—sometimes called an\n",
    "instance2 of the string class. The object (the new string) is the output of the method called\n",
    "on the original string."
   ]
  },
  {
   "attachments": {},
   "cell_type": "markdown",
   "metadata": {},
   "source": [
    "In more complex objects, the object itself has attributes or properties that we can\n",
    "set and get. 3 We might create a person object, for example. The functions or methods\n",
    "that a person object allows would include a new or create method as well as various set\n",
    "methods and get methods; for example:"
   ]
  },
  {
   "cell_type": "code",
   "execution_count": null,
   "metadata": {},
   "outputs": [],
   "source": [
    "fred=customer(name='Fred') # create new customer\n",
    "fred.setAge(49) # change age to 49\n",
    "fred.gender='Male' # Fred is male\n",
    "cdate=fred.getCreateDate() # get the creation date\n",
    "age = fred.getAge() # get Fred's age\n",
    "del fred # Fred no longer wanted L"
   ]
  },
  {
   "attachments": {},
   "cell_type": "markdown",
   "metadata": {},
   "source": [
    "In the preceding example, you can see there were some get and set methods that get\n",
    "and set Fred’s attributes, like his age and creation date. His age and creation date cannot\n",
    "be accessed directly except through these simple get and set functions.\n",
    "\n",
    "There was one attribute that could be examined directly, though: fred.gender . It\n",
    "wasn’t a method because there were no parentheses associated when we referenced it.\n",
    "We can access that attribute directly and we can set it just like any other variable through\n",
    "an assignment."
   ]
  },
  {
   "attachments": {},
   "cell_type": "markdown",
   "metadata": {},
   "source": [
    "#### Creating Objects Using Classes"
   ]
  },
  {
   "attachments": {},
   "cell_type": "markdown",
   "metadata": {},
   "source": [
    "In our Python code, a new object is defined by referring to a class . In the same way that\n",
    "we can create an int() , a list() , and str() types, we can define our own more complex\n",
    "objects using a class definition.\n",
    "\n",
    "A class definition is a template for a new object. It defines the mechanism and data\n",
    "required to create a new instance of that class, its attributes (both private and public), and\n",
    "the methods that can be used to set and get attributes or change the state of the object.\n",
    "\n",
    "Note that we are not recommending this as a perfect implementation of a person\n",
    "class; it is just an example to illustrate the use of class definitions, object attributes, and\n",
    "methods."
   ]
  },
  {
   "attachments": {},
   "cell_type": "markdown",
   "metadata": {},
   "source": [
    "The module that defines the person class is people.py :"
   ]
  },
  {
   "cell_type": "code",
   "execution_count": null,
   "metadata": {},
   "outputs": [],
   "source": [
    "from datetime import datetime\n",
    "\n",
    "class person(object):\n",
    "    \"Person Class\"\n",
    "\n",
    "    def __init__(self,name,age,parent=None):\n",
    "        self.name=name\n",
    "        self.age=age\n",
    "        self.created=datetime.today()\n",
    "        self.parent=parent\n",
    "        self.children=[]\n",
    "        \n",
    "        print('Created',self.name,'age',self.age)\n",
    "\n",
    "    def setName(self,name):\n",
    "        self.name=name\n",
    "        print('Updated name',self.name)\n",
    "\n",
    "    def setAge(self,age):\n",
    "        self.age=age\n",
    "        print('Updated age',self.age)\n",
    "\n",
    "    def addChild(self,name,age):\n",
    "        child=person(name,age,parent=self)\n",
    "        self.children.append(child)\n",
    "        print(self.name,'added child',child.name)\n",
    "\n",
    "    def listChildren(self):\n",
    "        \n",
    "        if len(self.children)>0:\n",
    "            print(self.name,'has children:')\n",
    "        \n",
    "            for c in self.children:\n",
    "                print(' ',c.name)\n",
    "        \n",
    "        else:\n",
    "            print(self.name,'has no children')\n",
    "\n",
    "    def getChildren(self):\n",
    "        return self.children"
   ]
  },
  {
   "attachments": {},
   "cell_type": "markdown",
   "metadata": {},
   "source": [
    "* Line 1 imports the datetime and printing modules we’ll need\n",
    "later.\n",
    "* Line 3 starts the class definition. We have used the generic object\n",
    "type, but classes can subclassed and inherit the attributes and\n",
    "methods of another parent class.\n",
    "* Lines 5 through 11 creates a new object. Python doesn’t need a\n",
    "“new” method: When the object is created, Python looks for an\n",
    "_init__() method to initialize the object. The arguments passed\n",
    "through the creation call are used here to initialize the object\n",
    "attributes. 4\n",
    "* The two methods in lines 13 through 19 update the object\n",
    "attribute’s name and age.\n",
    "* In lines 21 through 24, the addChild method creates a new\n",
    "person who is a child of the current person. The children objects\n",
    "are stored in an attribute children , which is a list of the person\n",
    "objects for each child.\n",
    "* In lines 26 through 32, the listChildren method prints out the\n",
    "names of the children for this person.\n",
    "* In lines 34 and 35, the getChildren method returns a list\n",
    "containing the children of this person."
   ]
  },
  {
   "attachments": {},
   "cell_type": "markdown",
   "metadata": {},
   "source": [
    "We wrote a program that tests the person class called testpeople.py . To show the\n",
    "output inline, I pasted the code into the interpreter. The embedded comments should\n",
    "explain what’s going on."
   ]
  },
  {
   "cell_type": "code",
   "execution_count": null,
   "metadata": {},
   "outputs": [],
   "source": [
    "from script.people import person"
   ]
  },
  {
   "cell_type": "code",
   "execution_count": null,
   "metadata": {},
   "outputs": [],
   "source": [
    "# create a new instance of class person\n",
    "# for Joe Bloggs, age 47\n",
    "\n",
    "joe = person('Joe Bloggs',47)"
   ]
  },
  {
   "cell_type": "code",
   "execution_count": null,
   "metadata": {},
   "outputs": [],
   "source": [
    "# use the age attribute to verify\n",
    "# Joe's age\n",
    "\n",
    "print(\"Joe's age is\",joe.age)\n",
    "print(\"Joe's full name is \",joe.name)"
   ]
  },
  {
   "cell_type": "code",
   "execution_count": null,
   "metadata": {},
   "outputs": [],
   "source": [
    "# add children Dick and Dora\n",
    "joe.addChild('Dick',7)\n",
    "\n",
    "joe.addChild('Dora',9)"
   ]
  },
  {
   "cell_type": "code",
   "execution_count": null,
   "metadata": {},
   "outputs": [],
   "source": [
    "# use the listChildren method to list them\n",
    "\n",
    "joe.listChildren()"
   ]
  },
  {
   "cell_type": "code",
   "execution_count": null,
   "metadata": {},
   "outputs": [],
   "source": [
    "# get the list variable containing Joe's children\n",
    "\n",
    "joekids=joe.getChildren()"
   ]
  },
  {
   "cell_type": "code",
   "execution_count": null,
   "metadata": {},
   "outputs": [],
   "source": [
    "# print Joe's details.\n",
    "# NB the vars() function lists the values\n",
    "# of the object attributes\n",
    "\n",
    "print(\"** Joe's attributes **\")\n",
    "print(vars(joe))"
   ]
  },
  {
   "cell_type": "code",
   "execution_count": null,
   "metadata": {},
   "outputs": [],
   "source": [
    "# print the details of his children\n",
    "# from the list we obtained earlier\n",
    "\n",
    "print(\"** Joe's Children **\")\n",
    "for j in joekids:\n",
    "    print(j.name,'attributes')\n",
    "    print(vars(j))"
   ]
  },
  {
   "attachments": {},
   "cell_type": "markdown",
   "metadata": {},
   "source": [
    "* Line 1 imports the module we need.\n",
    "* Line 6 creates a person by the name of Joe Bloggs.\n",
    "* Lines 12 through 15 print Joe Bloggs’s details.\n",
    "* Lines 19 through 24 add two children to Joe’s record. Note that the\n",
    "person class adds new person objects for each child.\n",
    "* Line 28 calls the joe.listChildren() method to list the details of\n",
    "Joe’s children.\n",
    "* Line 35 uses the joe.getChildren() method to obtain a list of\n",
    "Joe’s children objects.\n",
    "* Lines 41 through 43 use the vars() function to collect the\n",
    "attributes of the joe object. You can see all of the variables\n",
    "defined for the object, including a list of Joe’s children.\n",
    "* Lines 51 through 53 loop through the joekids list printing the\n",
    "attributes of the children objects."
   ]
  },
  {
   "attachments": {},
   "cell_type": "markdown",
   "metadata": {},
   "source": [
    "The preceding narrative gives you a flavor of how OO works in the Python language.\n",
    "OO is a large and complex topic that requires careful explanation."
   ]
  },
  {
   "cell_type": "code",
   "execution_count": null,
   "metadata": {},
   "outputs": [],
   "source": [
    "%reload_ext watermark\n",
    "%watermark -a \"Caique Miranda\" -gu \"caiquemiranda\" -iv"
   ]
  },
  {
   "attachments": {},
   "cell_type": "markdown",
   "metadata": {},
   "source": [
    "### End."
   ]
  }
 ],
 "metadata": {
  "kernelspec": {
   "display_name": "Python 3",
   "language": "python",
   "name": "python3"
  },
  "language_info": {
   "name": "python",
   "version": "3.10.5"
  },
  "orig_nbformat": 4
 },
 "nbformat": 4,
 "nbformat_minor": 2
}
