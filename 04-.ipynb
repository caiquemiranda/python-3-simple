{
 "cells": [
  {
   "attachments": {},
   "cell_type": "markdown",
   "metadata": {},
   "source": [
    "### Input and Output"
   ]
  },
  {
   "attachments": {},
   "cell_type": "markdown",
   "metadata": {},
   "source": [
    "If a program did not produce any output, it wouldn’t be very useful, would it? If a program\n",
    "did not accept some data that varied from time to time, it would produce the same result\n",
    "again and again and again, and that wouldn’t be very useful either (after its first run at\n",
    "least). Most programs, therefore, need to accept some inputs or input data, so that they\n",
    "can product output data, outputs, or results.\n",
    "In this chapter, we cover three important input/output mechanisms:\n",
    "\n",
    "• Displayed output.\n",
    "• Getting data from the user through the keyboard.\n",
    "• Getting input from and writing output to disk files."
   ]
  },
  {
   "attachments": {},
   "cell_type": "markdown",
   "metadata": {},
   "source": [
    "#### Displaying Output"
   ]
  },
  {
   "attachments": {},
   "cell_type": "markdown",
   "metadata": {},
   "source": [
    "You’ve seen the print () function 1 quite a few times already. The most common way\n",
    "of getting output from a program is to use the print() statement. Print is a function\n",
    "that takes as its arguments the items to be displayed. Optionally, you can also define a\n",
    "separator that is placed between the displayed items and a line terminator value that can\n",
    "replace a newline. The function call looks like this:"
   ]
  },
  {
   "cell_type": "code",
   "execution_count": null,
   "metadata": {},
   "outputs": [],
   "source": [
    "print(arg1,arg2,arg3...,sep=' ',end='\\n')"
   ]
  },
  {
   "attachments": {},
   "cell_type": "markdown",
   "metadata": {},
   "source": [
    "Here are some examples of the print() function in use."
   ]
  },
  {
   "cell_type": "code",
   "execution_count": null,
   "metadata": {},
   "outputs": [],
   "source": [
    ">>> boy=\"Jack\"\n",
    ">>> girl=\"Jill\"\n",
    ">>> print(\"Hello World!\")\n",
    "Hello World!\n",
    ">>> print(boy,'and',girl,'went up the hill')\n",
    "Jack and Jill went up the hill"
   ]
  },
  {
   "attachments": {},
   "cell_type": "markdown",
   "metadata": {},
   "source": [
    "It is common to use the string formatting feature."
   ]
  },
  {
   "cell_type": "code",
   "execution_count": null,
   "metadata": {},
   "outputs": [],
   "source": [
    ">>> print('%d plus %d makes %d' % (3, 7, 10))\n",
    "3 plus 7 makes 10"
   ]
  },
  {
   "attachments": {},
   "cell_type": "markdown",
   "metadata": {},
   "source": [
    "\n",
    "You can suppress the trailing newline by setting the end argument to an empty string\n",
    "(or something else)."
   ]
  },
  {
   "cell_type": "code",
   "execution_count": null,
   "metadata": {},
   "outputs": [],
   "source": [
    ">>> #\n",
    ">>> # the end= argument defaults to '\\n'\n",
    ">>> # if you change it, there won't be a newline\n",
    ">>> #\n",
    ">>> print('one...','two...','three',end='')\n",
    "one... two... three>>> # note the >>> prompt"
   ]
  },
  {
   "attachments": {},
   "cell_type": "markdown",
   "metadata": {},
   "source": [
    "The string separator defaults to a single space but can be changed or suppressed by\n",
    "setting it to an empty string."
   ]
  },
  {
   "cell_type": "code",
   "execution_count": null,
   "metadata": {},
   "outputs": [],
   "source": [
    ">>> #\n",
    ">>> # the sep= argument defaults to a space ' '\n",
    ">>> # but you can change it, for example...\n",
    ">>> #\n",
    ">>> print('one...','two...','three',sep='***')\n",
    "one...***two...***three"
   ]
  },
  {
   "attachments": {},
   "cell_type": "markdown",
   "metadata": {},
   "source": [
    "#### Getting User Input"
   ]
  },
  {
   "attachments": {},
   "cell_type": "markdown",
   "metadata": {},
   "source": [
    "The easiest way to get data into the program is to use the input () 2 function. It takes one\n",
    "argument, which is the prompt you see displayed on the command line. The function\n",
    "returns a string value, so if you are asking for numeric or multiple values separated by\n",
    "commas, you will have to parse and process the text in the code before the data can be used."
   ]
  },
  {
   "cell_type": "code",
   "execution_count": null,
   "metadata": {},
   "outputs": [],
   "source": [
    ">>> yourName=input('Enter your name: ')\n",
    "Enter your name: Paul\n",
    ">>> print('Your name is',yourName)\n",
    "Your name is Paul"
   ]
  },
  {
   "attachments": {},
   "cell_type": "markdown",
   "metadata": {},
   "source": [
    "If you ask the user for an integer number, you should check that the entered text is\n",
    "valid and can be converted to an integer. To do this, you might do the following:\n",
    "\n",
    "• Use len(text) to verify that some text has been entered.\n",
    "• Use the string function text.isdigit() to check the text\n",
    "represents a number.\n",
    "• Use the int(text) to convert the text to an integer so you can process it.\n",
    "\n",
    "You might have heard of the “garbage-in, garbage-out” concept. If you don’t validate\n",
    "the data coming into your program, its behavior might be unpredictable or it might fail or\n",
    "just produce strange results. Don’t forget that hackers can exploit poor input validation to\n",
    "cause mayhem on Internet sites."
   ]
  },
  {
   "attachments": {},
   "cell_type": "markdown",
   "metadata": {},
   "source": [
    "#### Writing and Reading Files"
   ]
  },
  {
   "attachments": {},
   "cell_type": "markdown",
   "metadata": {},
   "source": [
    "At one point or another, you are going to have to read and write text files on disks or other\n",
    "devices. We look specifically here at text-only files and how you can access them."
   ]
  },
  {
   "attachments": {},
   "cell_type": "markdown",
   "metadata": {},
   "source": [
    "##### Opening Files"
   ]
  },
  {
   "attachments": {},
   "cell_type": "markdown",
   "metadata": {},
   "source": [
    "To access a file on disk you create a file object and you use the open() function to do this.\n",
    "The format of the open call is:"
   ]
  },
  {
   "cell_type": "code",
   "execution_count": null,
   "metadata": {},
   "outputs": [],
   "source": [
    "fileobj = open(filename,mode)"
   ]
  },
  {
   "attachments": {},
   "cell_type": "markdown",
   "metadata": {},
   "source": [
    "The named file would normally be opened in the current directory, but the name can\n",
    "include a path so it can open any file on any disk and in any directory (local permissions\n",
    "allowing). The mode tells the interpreter to open the file for reading 'r' , writing 'w' , or\n",
    "appending 'a' .\n",
    "Table 4-1 shows the outcomes of opening existing and nonexistent files with the\n",
    "three mode values."
   ]
  },
  {
   "attachments": {},
   "cell_type": "markdown",
   "metadata": {},
   "source": [
    "Table 4-1. Opening Files with the Three Mode Values\n",
    "\n",
    "Open Mode | File Exists | File Does Not Exist\n",
    "'r' O pen for reading N o such file or directory error\n",
    "'w' Overwritten by empty file and\n",
    "open for writing\n",
    "Open for writing\n",
    "'a' Open for appending New empty file created and open\n",
    "for writing"
   ]
  },
  {
   "attachments": {},
   "cell_type": "markdown",
   "metadata": {},
   "source": [
    "Here are some examples of how to open files:"
   ]
  },
  {
   "cell_type": "code",
   "execution_count": null,
   "metadata": {},
   "outputs": [],
   "source": [
    "fname='myfile.txt'\n",
    "fp = open(fname,'r') # open for reading (must exist)\n",
    "fp = open(fname,'w') # creates new file for writing\n",
    "fp = open(fname,'a') # opens file for appending"
   ]
  },
  {
   "attachments": {},
   "cell_type": "markdown",
   "metadata": {},
   "source": [
    "#### Closing Files"
   ]
  },
  {
   "attachments": {},
   "cell_type": "markdown",
   "metadata": {},
   "source": [
    "Once you have finished reading from or writing to a file, it is a good idea to close it using\n",
    "the close () function."
   ]
  },
  {
   "cell_type": "code",
   "execution_count": null,
   "metadata": {},
   "outputs": [],
   "source": [
    "fp = open(fname,'w') # open for writing\n",
    "#\n",
    "# do some writing, etc.\n",
    "#\n",
    "fp.close()"
   ]
  },
  {
   "attachments": {},
   "cell_type": "markdown",
   "metadata": {},
   "source": [
    "If you don’t explicitly close files, you shouldn’t encounter any major problem, but\n",
    "it is always best to pair open() and close() functions for the sake of completeness and\n",
    "tidiness."
   ]
  },
  {
   "attachments": {},
   "cell_type": "markdown",
   "metadata": {},
   "source": [
    "##### Reading Files"
   ]
  },
  {
   "attachments": {},
   "cell_type": "markdown",
   "metadata": {},
   "source": [
    "The standard function to read data from a file is read() . It reads the entire contents of the\n",
    "file into a string variable. The content can then be split into separate lines delimited by\n",
    "the newline character ( '\\n' )."
   ]
  },
  {
   "cell_type": "code",
   "execution_count": null,
   "metadata": {},
   "outputs": [],
   "source": [
    "fp = open(fname,'r') # open for reading\n",
    "text = fp.read()\n",
    "lines=text.split('\\n')\n",
    "fp.close()"
   ]
  },
  {
   "attachments": {},
   "cell_type": "markdown",
   "metadata": {},
   "source": [
    "A more common way to read a file into memory is readlines() , which returns a list\n",
    "containing each line."
   ]
  },
  {
   "cell_type": "code",
   "execution_count": null,
   "metadata": {},
   "outputs": [],
   "source": [
    "fp = open(fname,'r') # open for reading\n",
    "lines = fp.readlines()\n",
    "fp.close()"
   ]
  },
  {
   "attachments": {},
   "cell_type": "markdown",
   "metadata": {},
   "source": [
    "Every entry in the lines list just shown will have a newline at its end, so a good way\n",
    "of cleaning up the readlines() data would be to use a list comprehension:"
   ]
  },
  {
   "cell_type": "code",
   "execution_count": null,
   "metadata": {},
   "outputs": [],
   "source": [
    "lines = [line.rstrip() for line in fp.readlines()]"
   ]
  },
  {
   "attachments": {},
   "cell_type": "markdown",
   "metadata": {},
   "source": [
    "If you want to read a file line by line, the best way is to make use of the fact that the\n",
    "file object itself returns an iterator like this:"
   ]
  },
  {
   "cell_type": "code",
   "execution_count": null,
   "metadata": {},
   "outputs": [],
   "source": [
    "fp = open(fname,'r') # open for reading\n",
    "for eachLine in fp:\n",
    "#\n",
    "# process each line in turn\n",
    "#\n",
    "print(eachLine,end='') # suppress the extra \\n\n",
    "fp.close()"
   ]
  },
  {
   "attachments": {},
   "cell_type": "markdown",
   "metadata": {},
   "source": [
    "##### Writing to Files"
   ]
  },
  {
   "attachments": {},
   "cell_type": "markdown",
   "metadata": {},
   "source": [
    "The standard function to write data to a file is write() , which works exactly as you would\n",
    "expect."
   ]
  },
  {
   "cell_type": "code",
   "execution_count": null,
   "metadata": {},
   "outputs": [],
   "source": [
    "fp.write(textline)"
   ]
  },
  {
   "attachments": {},
   "cell_type": "markdown",
   "metadata": {},
   "source": [
    "Note that the write() function does not append a newline to the text before writing.\n",
    "Here is a simple example:"
   ]
  },
  {
   "cell_type": "code",
   "execution_count": null,
   "metadata": {},
   "outputs": [],
   "source": [
    "fp = open('text.txt','w')\n",
    "while True:\n",
    "text = input('Enter text (end with blank):')\n",
    "if len(text)==0:\n",
    "break\n",
    "else:\n",
    "fp.write(text+'\\n')\n",
    "fp.close()"
   ]
  },
  {
   "attachments": {},
   "cell_type": "markdown",
   "metadata": {},
   "source": [
    "If you didn’t add the trailing '\\n' newline in the write statement, all the lines of text\n",
    "would be merged into a single long string. If you have a list of strings, you can write the list\n",
    "out as a file in one statement, but you must remember to append a newline to each string\n",
    "to make the file appear as you expect.\n",
    "Here are two ways of writing out a list to a file:"
   ]
  },
  {
   "cell_type": "code",
   "execution_count": null,
   "metadata": {},
   "outputs": [],
   "source": [
    "lines=['line 1','line 2','line 3','line 4']\n",
    "# write all lines with no '\\n'\n",
    "fp.writelines(lines)\n",
    "# writes all line with '\\n'\n",
    "fp.writelines([line+'\\n' for line in lines])"
   ]
  },
  {
   "attachments": {},
   "cell_type": "markdown",
   "metadata": {},
   "source": [
    "##### Accessing the File System"
   ]
  },
  {
   "attachments": {},
   "cell_type": "markdown",
   "metadata": {},
   "source": [
    "There are a number of useful file system functions. They are all available using the os\n",
    "module, which you must import."
   ]
  },
  {
   "cell_type": "code",
   "execution_count": null,
   "metadata": {},
   "outputs": [],
   "source": [
    "import os\n",
    "# remove a file (deleteme.txt) from disk\n",
    "os.unlink('deleteme.txt')\n",
    "# rename file on disk (from file.txt to newname.txt)\n",
    "os.rename('file.txt','newname.txt')\n",
    "# change current/working directory\n",
    "os.chdir(newdirectory)\n",
    "# create list of files in a directory\n",
    "filelist = os.listdir(dirname)\n",
    "# obtain current directory\n",
    "curdir = os.getcwd()\n",
    "# create a directory\n",
    "os.mkdir(dirname)\n",
    "# remove a directory (requires it to be empty)\n",
    "os.rmdir(dirname)\n",
    "# in the following examples, we need to use\n",
    "# the os.path module\n",
    "#\n",
    "# does the file/directory exist?\n",
    "exists = os.path.exists(path)\n",
    "# does path name exist and is it a file?\n",
    "isfile = os.path.isfile(filepathname)\n",
    "# does path name exist and is it is directory?\n",
    "isdir = os.path.isdir(filepath)"
   ]
  },
  {
   "attachments": {},
   "cell_type": "markdown",
   "metadata": {},
   "source": [
    "#### Command-Line Arguments"
   ]
  },
  {
   "attachments": {},
   "cell_type": "markdown",
   "metadata": {},
   "source": [
    "The input() function allows you to get input from the user using the keyboard at any\n",
    "point in your program. Often, though, it is more convenient to the user to provide input\n",
    "directly after the program name in a command line. Most command-line utilities have\n",
    "options and data to be used in its process; for example:"
   ]
  },
  {
   "cell_type": "code",
   "execution_count": null,
   "metadata": {},
   "outputs": [],
   "source": [
    "!python mycopy.py thisfile.txt thatfile.txt"
   ]
  },
  {
   "attachments": {},
   "cell_type": "markdown",
   "metadata": {},
   "source": [
    "This might be a program that makes a copy of one file to another.\n",
    "The arguments are captured in the sys.argv list from the sys module. Here is some\n",
    "code that demonstrates how to capture the command-line arguments ( command.py ):"
   ]
  },
  {
   "cell_type": "code",
   "execution_count": null,
   "metadata": {},
   "outputs": [],
   "source": [
    "import sys\n",
    "nargs=len(sys.argv)\n",
    "print('%d argument(s)' % (nargs))\n",
    "n=0\n",
    "for a in sys.argv:\n",
    "print(' arg %d is %s' % (n,a))\n",
    "n+=1"
   ]
  },
  {
   "attachments": {},
   "cell_type": "markdown",
   "metadata": {},
   "source": [
    "Let’s try running our program with three arguments:"
   ]
  },
  {
   "cell_type": "code",
   "execution_count": null,
   "metadata": {},
   "outputs": [],
   "source": [
    "D:\\LeanPython>python command.py arg1 arg2 arg3\n",
    "4 argument(s)\n",
    "arg 0 is command.py\n",
    "arg 1 is arg1\n",
    "arg 2 is arg2\n",
    "arg 3 is arg3"
   ]
  },
  {
   "cell_type": "code",
   "execution_count": null,
   "metadata": {},
   "outputs": [],
   "source": [
    "%reload_ext watermark\n",
    "%watermark -a \"Caique Miranda\" -gu \"caiquemiranda\" -iv"
   ]
  },
  {
   "attachments": {},
   "cell_type": "markdown",
   "metadata": {},
   "source": [
    "### End."
   ]
  }
 ],
 "metadata": {
  "language_info": {
   "name": "python"
  },
  "orig_nbformat": 4
 },
 "nbformat": 4,
 "nbformat_minor": 2
}
