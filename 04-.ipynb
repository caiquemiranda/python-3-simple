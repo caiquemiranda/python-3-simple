{
 "cells": [
  {
   "attachments": {},
   "cell_type": "markdown",
   "metadata": {},
   "source": [
    "### Entrada e saída"
   ]
  },
  {
   "attachments": {},
   "cell_type": "markdown",
   "metadata": {},
   "source": [
    "Se um programa não produzisse nenhuma saída, não seria muito útil, não é? Se um programa não aceitasse alguns dados que variassem de tempos em tempos, produziria o mesmo resultado de novo e de novo e de novo, e isso também não seria muito útil (depois de sua primeira execução em ao menos). A maioria dos programas, portanto, precisa aceitar algumas entradas ou dados de entrada, para que pode produzir dados de saída, saídas ou resultados.\n",
    "\n",
    "Abordamos três importantes mecanismos de entrada/saída:\n",
    "\n",
    "• Saída exibida.\n",
    "• Obtenção de dados do usuário através do teclado.\n",
    "• Obtendo entrada e gravando a saída em arquivos de disco."
   ]
  },
  {
   "attachments": {},
   "cell_type": "markdown",
   "metadata": {},
   "source": [
    "#### Exibindo a saída"
   ]
  },
  {
   "attachments": {},
   "cell_type": "markdown",
   "metadata": {},
   "source": [
    "Você já viu a função print() 1 algumas vezes. A maneira mais comum de obter a saída de um programa é usar a instrução print(). Imprimir é uma função que toma como argumentos os itens a serem exibidos. Opcionalmente, você também pode definir um separador que é colocado entre os itens exibidos e um valor de terminador de linha que pode substituir uma nova linha. A chamada da função fica assim:"
   ]
  },
  {
   "cell_type": "code",
   "execution_count": null,
   "metadata": {},
   "outputs": [],
   "source": [
    "print(arg1,arg2,arg3...,sep=' ',end='\\n')"
   ]
  },
  {
   "attachments": {},
   "cell_type": "markdown",
   "metadata": {},
   "source": [
    "Aqui estão alguns exemplos da função print() em uso."
   ]
  },
  {
   "cell_type": "code",
   "execution_count": null,
   "metadata": {},
   "outputs": [],
   "source": [
    "boy=\"Jack\"\n",
    "girl=\"Jill\"\n",
    "\n",
    "print(\"Hello World!\")"
   ]
  },
  {
   "cell_type": "code",
   "execution_count": null,
   "metadata": {},
   "outputs": [],
   "source": [
    "print(boy,'and',girl,'went up the hill')\n"
   ]
  },
  {
   "attachments": {},
   "cell_type": "markdown",
   "metadata": {},
   "source": [
    "É comum usar o recurso de formatação de string."
   ]
  },
  {
   "cell_type": "code",
   "execution_count": null,
   "metadata": {},
   "outputs": [],
   "source": [
    "print('%d plus %d makes %d' % (3, 7, 10))"
   ]
  },
  {
   "attachments": {},
   "cell_type": "markdown",
   "metadata": {},
   "source": [
    "Você pode suprimir a nova linha à direita definindo o argumento final como uma string vazia (ou alguma outra coisa)."
   ]
  },
  {
   "cell_type": "code",
   "execution_count": null,
   "metadata": {},
   "outputs": [],
   "source": [
    "# the end= argument defaults to '\\n'\n",
    "# if you change it, there won't be a newline\n",
    "\n",
    "print('one...','two...','three',end='')"
   ]
  },
  {
   "attachments": {},
   "cell_type": "markdown",
   "metadata": {},
   "source": [
    "O padrão do separador de string é um único espaço, mas pode ser alterado ou suprimido por definindo-o como uma string vazia."
   ]
  },
  {
   "cell_type": "code",
   "execution_count": null,
   "metadata": {},
   "outputs": [],
   "source": [
    "# the sep= argument defaults to a space ' '\n",
    "# but you can change it, for example...\n",
    "\n",
    "print('one...','two...','three',sep='***')"
   ]
  },
  {
   "attachments": {},
   "cell_type": "markdown",
   "metadata": {},
   "source": [
    "#### Obtendo entrada do usuário"
   ]
  },
  {
   "attachments": {},
   "cell_type": "markdown",
   "metadata": {},
   "source": [
    "A maneira mais fácil de inserir dados no programa é usar a função input () 2. é preciso um argumento, que é o prompt exibido na linha de comando. A função retorna um valor de string, portanto, se você estiver solicitando valores numéricos ou múltiplos separados por vírgulas, você terá que analisar e processar o texto no código antes que os dados possam ser usados."
   ]
  },
  {
   "cell_type": "code",
   "execution_count": null,
   "metadata": {},
   "outputs": [],
   "source": [
    "yourName=input('Enter your name: ')"
   ]
  },
  {
   "cell_type": "code",
   "execution_count": null,
   "metadata": {},
   "outputs": [],
   "source": [
    "print('Your name is',yourName)"
   ]
  },
  {
   "attachments": {},
   "cell_type": "markdown",
   "metadata": {},
   "source": [
    "Se você pedir ao usuário um número inteiro, verifique se o texto digitado é válido e pode ser convertido para um número inteiro. Para fazer isso, você pode fazer o seguinte:\n",
    "\n",
    "• Use len(texto) para verificar se algum texto foi inserido.\n",
    "• Use a função de string text.isdigit() para verificar o texto representa um número.\n",
    "• Use o int(texto) para converter o texto em um número inteiro para que você possa processá-lo.\n",
    "\n",
    "Você já deve ter ouvido falar do conceito de “lixo que entra, lixo que sai”. Se você não validar os dados que entram em seu programa, seu comportamento pode ser imprevisível ou pode falhar ou apenas produzem resultados estranhos. Não se esqueça de que os hackers podem explorar a validação de entrada ruim para causar caos em sites da Internet."
   ]
  },
  {
   "attachments": {},
   "cell_type": "markdown",
   "metadata": {},
   "source": [
    "#### Escrevendo e Lendo Arquivos"
   ]
  },
  {
   "attachments": {},
   "cell_type": "markdown",
   "metadata": {},
   "source": [
    "Em um ponto ou outro, você terá que ler e gravar arquivos de texto em discos ou outros dispositivos. Nós olhamos especificamente aqui para arquivos somente texto e como você pode acessá-los."
   ]
  },
  {
   "attachments": {},
   "cell_type": "markdown",
   "metadata": {},
   "source": [
    "##### Abrindo Arquivos"
   ]
  },
  {
   "attachments": {},
   "cell_type": "markdown",
   "metadata": {},
   "source": [
    "Para acessar um arquivo no disco, você cria um objeto de arquivo e usa a função open() para fazer isso. O formato da chamada aberta é:"
   ]
  },
  {
   "cell_type": "code",
   "execution_count": null,
   "metadata": {},
   "outputs": [],
   "source": [
    "fileobj = open(filename,mode)"
   ]
  },
  {
   "attachments": {},
   "cell_type": "markdown",
   "metadata": {},
   "source": [
    "O arquivo nomeado normalmente seria aberto no diretório atual, mas o nome pode inclua um caminho para que possa abrir qualquer arquivo em qualquer disco e em qualquer diretório (as permissões locais permitindo). O modo diz ao interpretador para abrir o arquivo para ler 'r' , escrever 'w' ou acrescentando 'a' .\n",
    "\n",
    "A Tabela abaixo mostra os resultados da abertura de arquivos existentes e inexistentes com o três valores de modo."
   ]
  },
  {
   "attachments": {},
   "cell_type": "markdown",
   "metadata": {},
   "source": [
    "Abrindo arquivos com os três valores de modo\n",
    "\n",
    "Modo aberto | Arquivo Existe | Arquivo não existe\n",
    "---|---|---\n",
    "'r' | A caneta para leitura | Nenhum tal arquivo ou erro de diretório\n",
    "'w' | Substituído por arquivo vazio e aberto para escrever | Aberto para escrita\n",
    "'a' | Abrir para anexar | Novo arquivo vazio criado e aberto para escrever"
   ]
  },
  {
   "attachments": {},
   "cell_type": "markdown",
   "metadata": {},
   "source": [
    "Aqui estão alguns exemplos de como abrir arquivos:"
   ]
  },
  {
   "cell_type": "code",
   "execution_count": null,
   "metadata": {},
   "outputs": [],
   "source": [
    "fname='myfile.txt'\n",
    "fp = open(fname,'r') # open for reading (must exist)\n",
    "fp = open(fname,'w') # creates new file for writing\n",
    "fp = open(fname,'a') # opens file for appending"
   ]
  },
  {
   "attachments": {},
   "cell_type": "markdown",
   "metadata": {},
   "source": [
    "#### Fechando Arquivos"
   ]
  },
  {
   "attachments": {},
   "cell_type": "markdown",
   "metadata": {},
   "source": [
    "Depois de terminar de ler ou escrever em um arquivo, é uma boa ideia fechá-lo usando a função fechar ()."
   ]
  },
  {
   "cell_type": "code",
   "execution_count": null,
   "metadata": {},
   "outputs": [],
   "source": [
    "fp = open(fname,'w') # open for writing\n",
    "#\n",
    "# do some writing, etc.\n",
    "#\n",
    "fp.close()"
   ]
  },
  {
   "attachments": {},
   "cell_type": "markdown",
   "metadata": {},
   "source": [
    "Se você não fechar os arquivos explicitamente, não deverá encontrar nenhum grande problema, mas é sempre melhor emparelhar as funções open() e close() para fins de integridade e arrumação."
   ]
  },
  {
   "attachments": {},
   "cell_type": "markdown",
   "metadata": {},
   "source": [
    "##### Lendo Arquivos"
   ]
  },
  {
   "attachments": {},
   "cell_type": "markdown",
   "metadata": {},
   "source": [
    "A função padrão para ler dados de um arquivo é read() . Ele lê todo o conteúdo do arquivo em uma variável de string. O conteúdo pode então ser dividido em linhas separadas delimitadas por o caractere de nova linha ( '\\n' )."
   ]
  },
  {
   "cell_type": "code",
   "execution_count": null,
   "metadata": {},
   "outputs": [],
   "source": [
    "fp = open(fname,'r') # open for reading\n",
    "text = fp.read()\n",
    "lines=text.split('\\n')\n",
    "fp.close()"
   ]
  },
  {
   "attachments": {},
   "cell_type": "markdown",
   "metadata": {},
   "source": [
    "Uma maneira mais comum de ler um arquivo na memória é readlines() , que retorna uma lista contendo cada linha."
   ]
  },
  {
   "cell_type": "code",
   "execution_count": null,
   "metadata": {},
   "outputs": [],
   "source": [
    "fp = open(fname,'r') # open for reading\n",
    "lines = fp.readlines()\n",
    "fp.close()"
   ]
  },
  {
   "attachments": {},
   "cell_type": "markdown",
   "metadata": {},
   "source": [
    "Cada entrada na lista de linhas mostrada terá uma nova linha no final, portanto, uma boa maneira de limpar os dados readlines () seria usar uma compreensão de lista:"
   ]
  },
  {
   "cell_type": "code",
   "execution_count": null,
   "metadata": {},
   "outputs": [],
   "source": [
    "lines = [line.rstrip() for line in fp.readlines()]"
   ]
  },
  {
   "attachments": {},
   "cell_type": "markdown",
   "metadata": {},
   "source": [
    "Se você quiser ler um arquivo linha por linha, a melhor maneira é aproveitar o fato de que o O próprio objeto de arquivo retorna um iterador como este:"
   ]
  },
  {
   "cell_type": "code",
   "execution_count": null,
   "metadata": {},
   "outputs": [],
   "source": [
    "fp = open(fname,'r') # open for reading\n",
    "for eachLine in fp:\n",
    "#\n",
    "# process each line in turn\n",
    "#\n",
    "    print(eachLine,end='') # suppress the extra \\n\n",
    "\n",
    "fp.close()"
   ]
  },
  {
   "attachments": {},
   "cell_type": "markdown",
   "metadata": {},
   "source": [
    "##### Gravando em Arquivos"
   ]
  },
  {
   "attachments": {},
   "cell_type": "markdown",
   "metadata": {},
   "source": [
    "A função padrão para gravar dados em um arquivo é write() , que funciona exatamente como você faria esperar."
   ]
  },
  {
   "cell_type": "code",
   "execution_count": null,
   "metadata": {},
   "outputs": [],
   "source": [
    "fp.write(textline)"
   ]
  },
  {
   "attachments": {},
   "cell_type": "markdown",
   "metadata": {},
   "source": [
    "Observe que a função write() não acrescenta uma nova linha ao texto antes de escrever. Aqui está um exemplo simples:"
   ]
  },
  {
   "cell_type": "code",
   "execution_count": null,
   "metadata": {},
   "outputs": [],
   "source": [
    "fp = open('text.txt','w')\n",
    "while True:\n",
    "    text = input('Enter text (end with blank):')\n",
    "    if len(text)==0:\n",
    "        break\n",
    "    else:\n",
    "        fp.write(text+'\\n')\n",
    "fp.close()"
   ]
  },
  {
   "attachments": {},
   "cell_type": "markdown",
   "metadata": {},
   "source": [
    "Se você não adicionou a nova linha '\\n' à direita na instrução de gravação, todas as linhas de texto seria mesclado em uma única string longa. Se você tem uma lista de strings, você pode escrever a lista como um arquivo em uma instrução, mas você deve se lembrar de acrescentar uma nova linha a cada string para fazer o arquivo aparecer como você espera. Aqui estão duas maneiras de escrever uma lista em um arquivo:"
   ]
  },
  {
   "cell_type": "code",
   "execution_count": null,
   "metadata": {},
   "outputs": [],
   "source": [
    "lines=['line 1','line 2','line 3','line 4']\n",
    "# write all lines with no '\\n'\n",
    "fp.writelines(lines)\n",
    "# writes all line with '\\n'\n",
    "fp.writelines([line+'\\n' for line in lines])"
   ]
  },
  {
   "attachments": {},
   "cell_type": "markdown",
   "metadata": {},
   "source": [
    "##### Acessando o sistema de arquivos"
   ]
  },
  {
   "attachments": {},
   "cell_type": "markdown",
   "metadata": {},
   "source": [
    "Há várias funções úteis do sistema de arquivos. Eles estão todos disponíveis usando o sistema operacional módulo, que você deve importar."
   ]
  },
  {
   "cell_type": "code",
   "execution_count": null,
   "metadata": {},
   "outputs": [],
   "source": [
    "import os\n",
    "# remove a file (deleteme.txt) from disk\n",
    "os.unlink('deleteme.txt')\n",
    "# rename file on disk (from file.txt to newname.txt)\n",
    "os.rename('file.txt','newname.txt')\n",
    "# change current/working directory\n",
    "os.chdir(newdirectory)\n",
    "# create list of files in a directory\n",
    "filelist = os.listdir(dirname)\n",
    "# obtain current directory\n",
    "curdir = os.getcwd()\n",
    "# create a directory\n",
    "os.mkdir(dirname)\n",
    "# remove a directory (requires it to be empty)\n",
    "os.rmdir(dirname)\n",
    "# in the following examples, we need to use\n",
    "# the os.path module\n",
    "#\n",
    "# does the file/directory exist?\n",
    "exists = os.path.exists(path)\n",
    "# does path name exist and is it a file?\n",
    "isfile = os.path.isfile(filepathname)\n",
    "# does path name exist and is it is directory?\n",
    "isdir = os.path.isdir(filepath)"
   ]
  },
  {
   "attachments": {},
   "cell_type": "markdown",
   "metadata": {},
   "source": [
    "#### Argumentos de linha de comando"
   ]
  },
  {
   "attachments": {},
   "cell_type": "markdown",
   "metadata": {},
   "source": [
    "A função input() permite que você obtenha entrada do usuário usando o teclado em qualquer ponto em seu programa. Muitas vezes, porém, é mais conveniente para o usuário fornecer entrada diretamente após o nome do programa em uma linha de comando. A maioria dos utilitários de linha de comando tem opções e dados a serem utilizados em seu processo; por exemplo:"
   ]
  },
  {
   "cell_type": "code",
   "execution_count": null,
   "metadata": {},
   "outputs": [],
   "source": [
    "!python mycopy.py thisfile.txt thatfile.txt"
   ]
  },
  {
   "attachments": {},
   "cell_type": "markdown",
   "metadata": {},
   "source": [
    "Pode ser um programa que faz uma cópia de um arquivo para outro. Os argumentos são capturados na lista sys.argv do módulo sys. Aqui está algum código que demonstra como capturar os argumentos da linha de comando ( command.py ):"
   ]
  },
  {
   "cell_type": "code",
   "execution_count": null,
   "metadata": {},
   "outputs": [],
   "source": [
    "import sys\n",
    "nargs=len(sys.argv)\n",
    "print('%d argument(s)' % (nargs))\n",
    "n=0\n",
    "for a in sys.argv:\n",
    "    print(' arg %d is %s' % (n,a))\n",
    "    n+=1"
   ]
  },
  {
   "attachments": {},
   "cell_type": "markdown",
   "metadata": {},
   "source": [
    "Vamos tentar executar nosso programa com três argumentos:"
   ]
  },
  {
   "cell_type": "code",
   "execution_count": null,
   "metadata": {},
   "outputs": [],
   "source": [
    "D:\\LeanPython>python command.py arg1 arg2 arg3\n",
    "4 argument(s)\n",
    "arg 0 is command.py\n",
    "arg 1 is arg1\n",
    "arg 2 is arg2\n",
    "arg 3 is arg3"
   ]
  },
  {
   "cell_type": "code",
   "execution_count": null,
   "metadata": {},
   "outputs": [],
   "source": [
    "%reload_ext watermark\n",
    "%watermark -a \"Caique Miranda\" -gu \"caiquemiranda\" -iv"
   ]
  },
  {
   "attachments": {},
   "cell_type": "markdown",
   "metadata": {},
   "source": [
    "### End."
   ]
  }
 ],
 "metadata": {
  "language_info": {
   "name": "python"
  },
  "orig_nbformat": 4
 },
 "nbformat": 4,
 "nbformat_minor": 2
}
