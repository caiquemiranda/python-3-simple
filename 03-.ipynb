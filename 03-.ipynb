{
 "cells": [
  {
   "attachments": {},
   "cell_type": "markdown",
   "metadata": {},
   "source": [
    "### Estrutura do Programa"
   ]
  },
  {
   "attachments": {},
   "cell_type": "markdown",
   "metadata": {},
   "source": [
    "#### Tomando uma decisão"
   ]
  },
  {
   "attachments": {},
   "cell_type": "markdown",
   "metadata": {},
   "source": [
    "Alguns utilitários simples podem ser uma pequena lista de instruções executadas em ordem, mas uma programa geralmente precisa tomar decisões e fazer escolhas. A tomada de decisão em um programa determina o caminho que o programa segue. As decisões são tomadas por declarações if."
   ]
  },
  {
   "attachments": {},
   "cell_type": "markdown",
   "metadata": {},
   "source": [
    "##### A instrução if"
   ]
  },
  {
   "attachments": {},
   "cell_type": "markdown",
   "metadata": {},
   "source": [
    "Se as instruções dependem de alguma forma de teste ou condição. O formato normal de um if declaração é mostrada aqui:"
   ]
  },
  {
   "cell_type": "code",
   "execution_count": null,
   "metadata": {},
   "outputs": [],
   "source": [
    "if teste: # observe os dois pontos ':'.\n",
    "    # As declarações após a declaração \n",
    "    # if são recuados e executados \n",
    "    # se o teste for True.\n",
    "    \n",
    "    declaracao_1\n",
    "    declaração_2\n",
    "    declaracao_3\n",
    "    pass"
   ]
  },
  {
   "attachments": {},
   "cell_type": "markdown",
   "metadata": {},
   "source": [
    "Nesse caso, as três instruções são executadas se test for True . Caso contrário, estes as instruções são ignoradas e o interpretador pula para a instrução seguinte ao bloco de código.\n",
    "\n",
    "Frequentemente, o resultado Falso do teste tem seu próprio bloco de código, como segue:"
   ]
  },
  {
   "cell_type": "code",
   "execution_count": null,
   "metadata": {},
   "outputs": [],
   "source": [
    "if teste: # observe os dois pontos ':'.\n",
    "    FacaIsso() # FacaIsso() ... se o teste = True\n",
    "\n",
    "else: # observe os dois pontos após 'else'.\n",
    "    FacaIsso() # FaçaIsso() ... se o teste = False"
   ]
  },
  {
   "attachments": {},
   "cell_type": "markdown",
   "metadata": {},
   "source": [
    "A palavra-chave else: separa o resultado verdadeiro do teste do resultado falso do teste e instrui o compilador a usar o bloco de código alternativo: `FacaAquilo()`.\n",
    "\n",
    "Até agora, vimos uma decisão binária com apenas um resultado Verdadeiro e um Falso. Alguns Se as instruções fazem uma escolha entre mais de duas alternativas. Neste caso, o elif: palavra-chave separa as diferentes escolhas e o resto: palavra-chave é a escolha final se não outro teste é cumprido. Por exemplo:"
   ]
  },
  {
   "cell_type": "code",
   "execution_count": null,
   "metadata": {},
   "outputs": [],
   "source": [
    "if code == 'RED':\n",
    "    SoundRedAlert()\n",
    "elif code == 'AMBER':\n",
    "    GiveWarning()\n",
    "else:\n",
    "    pass"
   ]
  },
  {
   "attachments": {},
   "cell_type": "markdown",
   "metadata": {},
   "source": [
    "##### A declaração pass"
   ]
  },
  {
   "attachments": {},
   "cell_type": "markdown",
   "metadata": {},
   "source": [
    "No exemplo anterior, dependendo do valor de code , o programa faz uma escolha\n",
    "fazer alguma coisa, mas a terceira opção era passar. A declaração de passagem é um “não faça nada” declaração. A terceira cláusula ( else ) não é estritamente necessária, mas pass costuma ser útil para mostre explicitamente o que o programa está fazendo (ou não fazendo)."
   ]
  },
  {
   "attachments": {},
   "cell_type": "markdown",
   "metadata": {},
   "source": [
    "##### Tipos de teste"
   ]
  },
  {
   "attachments": {},
   "cell_type": "markdown",
   "metadata": {},
   "source": [
    "Os testes aplicados em uma instrução if podem assumir várias formas, mas os padrões principais estão resumidos aqui."
   ]
  },
  {
   "cell_type": "code",
   "execution_count": null,
   "metadata": {},
   "outputs": [],
   "source": [
    "var1 = 1\n",
    "var2 = 2"
   ]
  },
  {
   "cell_type": "code",
   "execution_count": null,
   "metadata": {},
   "outputs": [],
   "source": [
    "# Comparações\n",
    "\n",
    "var1 > var2 # maior que\n",
    "var1 == var2 # igual a\n",
    "var1 != var2 # diferente de"
   ]
  },
  {
   "cell_type": "code",
   "execution_count": null,
   "metadata": {},
   "outputs": [],
   "source": [
    "var = 1\n",
    "seq = [1, 2, 3, 4, 5]"
   ]
  },
  {
   "cell_type": "code",
   "execution_count": null,
   "metadata": {},
   "outputs": [],
   "source": [
    "# Associação de sequência (lista, tupla ou dicionário)\n",
    "\n",
    "var in seq\n",
    "var not in seq"
   ]
  },
  {
   "cell_type": "code",
   "execution_count": null,
   "metadata": {},
   "outputs": [],
   "source": [
    "x = [1, 2, 3, \n",
    "     4, 5, 6,\n",
    "     7, 8 ,9]"
   ]
  },
  {
   "cell_type": "code",
   "execution_count": null,
   "metadata": {},
   "outputs": [],
   "source": [
    "# Comprimento da sequência\n",
    "\n",
    "len(x) > 0 # sequência tem entradas?"
   ]
  },
  {
   "cell_type": "code",
   "execution_count": null,
   "metadata": {},
   "outputs": [],
   "source": [
    "# valor booleano\n",
    "\n",
    "arquivoaberto # fileopen == Verdadeiro?\n",
    "not arquivoaberto # arquivoaberto == Falso?"
   ]
  },
  {
   "cell_type": "code",
   "execution_count": null,
   "metadata": {},
   "outputs": [],
   "source": [
    "# Tem valor?\n",
    "\n",
    "var # não Nenhum (ou zero ou '')"
   ]
  },
  {
   "cell_type": "code",
   "execution_count": null,
   "metadata": {},
   "outputs": [],
   "source": [
    "# Validação\n",
    "\n",
    "var.isalpha() # alfanumérico?\n",
    "var.isdigit() # são todos dígitos?"
   ]
  },
  {
   "cell_type": "code",
   "execution_count": null,
   "metadata": {},
   "outputs": [],
   "source": [
    "# Cálculos\n",
    "\n",
    "(preço*quantidade) > 100,0 # custo > 100?\n",
    "(custo-orçamento) > 0,0 # overbudget?"
   ]
  },
  {
   "attachments": {},
   "cell_type": "markdown",
   "metadata": {},
   "source": [
    "No caso de cálculos, geralmente é melhor usar chaves para forçar os cálculos do que confiar na precedência do operador padrão.\n",
    "\n",
    "Algumas decisões são mais complexas e requerem vários testes para serem implementadas. Para\n",
    "exemplo:"
   ]
  },
  {
   "cell_type": "code",
   "execution_count": null,
   "metadata": {},
   "outputs": [],
   "source": [
    "if hungry and foodInFridge and notTooTired:\n",
    "    cookAMeal()\n",
    "else:\n",
    "    getTakeAway()"
   ]
  },
  {
   "attachments": {},
   "cell_type": "markdown",
   "metadata": {},
   "source": [
    "Nesse caso, o operador and une as três condições e todas devem ser True para cookAMeal() seja executado.\n",
    "\n",
    "Existem três operadores lógicos - e , ou , e não - que podem ser usados para vincular decisões.\n",
    "\n",
    "As decisões podem ser aninhadas; ou seja, eles podem aparecer dentro dos blocos de código recuados de outras decisões. Por exemplo:"
   ]
  },
  {
   "cell_type": "code",
   "execution_count": null,
   "metadata": {},
   "outputs": [],
   "source": [
    "if age>19:\n",
    "    if carValue>10000:\n",
    "        if gotConvictions:\n",
    "            rejectInsuranceApplication()"
   ]
  },
  {
   "attachments": {},
   "cell_type": "markdown",
   "metadata": {},
   "source": [
    "#### Loops e iteração"
   ]
  },
  {
   "attachments": {},
   "cell_type": "markdown",
   "metadata": {},
   "source": [
    "Alguns recursos precisam executar atividades repetidamente para processar uma série de itens,\n",
    "incluindo o seguinte:\n",
    "\n",
    "* Listas de valores.\n",
    "* Entradas em um dicionário.\n",
    "* Linhas de dados em um banco de dados.\n",
    "* Linhas de texto em um arquivo de disco.\n",
    "\n",
    "Essas construções, geralmente chamadas de loops, executam um bloco de código definido repetidamente\n",
    "em algum item de dados até que alguma condição ou teste seja atendido (ou não atendido). Esses laços são\n",
    "implementadas usando instruções for e while."
   ]
  },
  {
   "attachments": {},
   "cell_type": "markdown",
   "metadata": {},
   "source": [
    "##### Declaração `for()`"
   ]
  },
  {
   "attachments": {},
   "cell_type": "markdown",
   "metadata": {},
   "source": [
    "A instrução f ou atua como uma instrução de cabeçalho para um bloco de código que deve ser executado até\n",
    "alguma condição é satisfeita. A instrução for opera em um conjunto iterável de elementos, geralmente um\n",
    "seqüência."
   ]
  },
  {
   "cell_type": "code",
   "execution_count": null,
   "metadata": {},
   "outputs": [],
   "source": [
    "theTeam=['Julia','Jane','Tom','Dick','Harry']\n",
    "for person in theTeam:\n",
    "    print('%s is in the team' % person)"
   ]
  },
  {
   "attachments": {},
   "cell_type": "markdown",
   "metadata": {},
   "source": [
    "O formato geral é 'for var in seq:' .\n",
    "\n",
    "Para cada iteração pelos membros da sequência, a variável var assume o valor da entrada na lista ou tupla, ou leva o valor da chave em um dicionário.\n",
    "\n",
    "Às vezes, não queremos iterar em uma lista ou dicionário, mas queremos executar um loop um número específico de vezes. Python fornece uma útil função range() que gera uma lista iterável de tamanho específico para nós. Pode levar três argumentos - start , end e step — que especificam o primeiro número, o número máximo e o incremento entre elementos no intervalo gerado, respectivamente. Se você fornecer apenas um número argumento, ele cria uma lista com esse número de elementos inteiros começando com zero."
   ]
  },
  {
   "cell_type": "code",
   "execution_count": null,
   "metadata": {},
   "outputs": [],
   "source": [
    "range(10)\n",
    "range(0,10) # a list of ten elements 0-9"
   ]
  },
  {
   "cell_type": "code",
   "execution_count": null,
   "metadata": {},
   "outputs": [],
   "source": [
    "range(1,10) # default step=1\n",
    "range(1,10) # list: [1,2,3,4,5,6,7,8,9]"
   ]
  },
  {
   "cell_type": "code",
   "execution_count": null,
   "metadata": {},
   "outputs": [],
   "source": [
    "range(1,20,3) # steps of 3\n",
    "range(1,20,3) # list: [1,4,7,10,13,16,19]\n"
   ]
  },
  {
   "cell_type": "code",
   "execution_count": null,
   "metadata": {},
   "outputs": [],
   "source": [
    "for i in range(3):\n",
    "    print(i)"
   ]
  },
  {
   "attachments": {},
   "cell_type": "markdown",
   "metadata": {},
   "source": [
    "##### Instrução While"
   ]
  },
  {
   "attachments": {},
   "cell_type": "markdown",
   "metadata": {},
   "source": [
    "A instrução while é semelhante à instrução f ou no sentido de que fornece uma instrução de cabeçalho\n",
    "para que um bloco de código seja repetido várias vezes. Em vez de um conjunto iterável de elementos,\n",
    "a instrução while repete o loop até que um teste não seja atendido."
   ]
  },
  {
   "cell_type": "code",
   "execution_count": null,
   "metadata": {},
   "outputs": [],
   "source": [
    "n=4\n",
    "while n>0:\n",
    "    print(n)\n",
    "    n-=1"
   ]
  },
  {
   "attachments": {},
   "cell_type": "markdown",
   "metadata": {},
   "source": [
    "Freqüentemente, a condição a ser atendida é um contador que é decrementado no loop ou um valor booleano cujo valor é alterado dentro do loop e, em seguida, o loop é encerrado."
   ]
  },
  {
   "cell_type": "code",
   "execution_count": null,
   "metadata": {},
   "outputs": [],
   "source": [
    "foundSmith=False\n",
    "while not foundSmith:\n",
    "    name=getNextName() # get next person record\n",
    "    if name=='smith': # name is 'smith'?\n",
    "        foundSmith=True"
   ]
  },
  {
   "attachments": {},
   "cell_type": "markdown",
   "metadata": {},
   "source": [
    "##### Break Statement"
   ]
  },
  {
   "attachments": {},
   "cell_type": "markdown",
   "metadata": {},
   "source": [
    "Uma instrução break é usada para encerrar o loop atual e continuar para o próximo após o bloco de código for ou while."
   ]
  },
  {
   "cell_type": "code",
   "execution_count": null,
   "metadata": {},
   "outputs": [],
   "source": [
    "while True: # this is an infinite loop\n",
    "    \n",
    "    command=input('Enter command:')\n",
    "    \n",
    "    if command=='exit': # infinite till user exits\n",
    "        break # skips to line 7\n",
    "    \n",
    "    else:\n",
    "        doCommand(command) # execute command\n",
    "    \n",
    "    print('bye')"
   ]
  },
  {
   "attachments": {},
   "cell_type": "markdown",
   "metadata": {},
   "source": [
    "##### Declaração continue"
   ]
  },
  {
   "attachments": {},
   "cell_type": "markdown",
   "metadata": {},
   "source": [
    "Uma instrução continue é usada no bloco de código de um loop para sair do código atual\n",
    "bloco e pule para a próxima iteração do loop. O teste de loop while ou for é verificado como\n",
    "normal."
   ]
  },
  {
   "cell_type": "code",
   "execution_count": null,
   "metadata": {},
   "outputs": [],
   "source": [
    "while True: # this is an infinite loop\n",
    "\n",
    "    command=input('Enter command:')\n",
    "\n",
    "    if len(command)==0: # no command - try again\n",
    "        continue # goes to next loop (line 1)\n",
    "    \n",
    "    elif command=='exit': # user exit\n",
    "        print('Goodbye')\n",
    "        break # skips to line 10\n",
    "    \n",
    "    else:\n",
    "        doCommand(command)\n",
    "    \n",
    "    print('bye')"
   ]
  },
  {
   "attachments": {},
   "cell_type": "markdown",
   "metadata": {},
   "source": [
    "##### List Comprehensions"
   ]
  },
  {
   "attachments": {},
   "cell_type": "markdown",
   "metadata": {},
   "source": [
    "Uma compreensão de lista (também conhecida como listcomp ) é uma maneira de criar dinamicamente uma lista de elementos em uma taquigrafia elegante. Suponha que você queira criar uma lista dos quadrados de os dez primeiros inteiros. Você poderia usar este código:"
   ]
  },
  {
   "cell_type": "code",
   "execution_count": null,
   "metadata": {},
   "outputs": [],
   "source": [
    "squares=[]\n",
    "for i in range(1,11):\n",
    "    squares.append(i*i)"
   ]
  },
  {
   "attachments": {},
   "cell_type": "markdown",
   "metadata": {},
   "source": [
    "Ou você pode usar isso:"
   ]
  },
  {
   "cell_type": "code",
   "execution_count": null,
   "metadata": {},
   "outputs": [],
   "source": [
    "squares=[i*i for i in range(1,11)]"
   ]
  },
  {
   "attachments": {},
   "cell_type": "markdown",
   "metadata": {},
   "source": [
    "The syntax for listcomps is:"
   ]
  },
  {
   "cell_type": "code",
   "execution_count": null,
   "metadata": {},
   "outputs": [],
   "source": [
    "[expr for element in iterable if condition]"
   ]
  },
  {
   "attachments": {},
   "cell_type": "markdown",
   "metadata": {},
   "source": [
    "A condição if pode ser usada para selecionar elementos do iterável. Aqui estão alguns\n",
    "exemplos desta sintaxe em uso:"
   ]
  },
  {
   "cell_type": "code",
   "execution_count": null,
   "metadata": {},
   "outputs": [],
   "source": [
    "# a list of even numbers between 1 and 100\n",
    "evens = [i for i in range(1,100) if not i % 2]"
   ]
  },
  {
   "cell_type": "code",
   "execution_count": null,
   "metadata": {},
   "outputs": [],
   "source": [
    "# a list of strings in lines containing 'True'\n",
    "trulines = [l for l in lines if l.find('True')>-1]"
   ]
  },
  {
   "attachments": {},
   "cell_type": "markdown",
   "metadata": {},
   "source": [
    "#### Using Functions"
   ]
  },
  {
   "attachments": {},
   "cell_type": "markdown",
   "metadata": {},
   "source": [
    "##### Why Write Functions?"
   ]
  },
  {
   "attachments": {},
   "cell_type": "markdown",
   "metadata": {},
   "source": [
    "Ao escrever programas mais complicados, você pode optar por escrevê-los em formatos longos e módulos complicados, mas módulos complicados são mais difíceis de escrever e difíceis de entender. Uma abordagem melhor é modularizar um programa complicado em módulos menores e módulos e funções mais simples e focados.\n",
    "\n",
    "A principal motivação para dividir grandes programas em módulos e funções é gerenciar melhor a complexidade do processo."
   ]
  },
  {
   "attachments": {},
   "cell_type": "markdown",
   "metadata": {},
   "source": [
    "* A modularização “divide e conquista” a complexidade em pedaços menores de código menos complexo, então o design é mais fácil.\n",
    "* Funções que fazem uma coisa bem são mais fáceis de entender e podem ser muito úteis para você e outros programadores.\n",
    "* As funções geralmente podem ser reutilizadas em diferentes partes de um sistema para evitar a duplicação de código.\n",
    "* Caso queira alterar algum comportamento, se for em uma função, basta alterar o código em um local.\n",
    "* Funções menores são mais fáceis de testar, depurar e começar a trabalhar."
   ]
  },
  {
   "attachments": {},
   "cell_type": "markdown",
   "metadata": {},
   "source": [
    "Importante, se você optar por usar uma função escrita por outra pessoa, você não deve precisa se preocupar muito como funciona, mas você precisa confiar nele."
   ]
  },
  {
   "attachments": {},
   "cell_type": "markdown",
   "metadata": {},
   "source": [
    "##### O que é uma função?"
   ]
  },
  {
   "attachments": {},
   "cell_type": "markdown",
   "metadata": {},
   "source": [
    "Uma função é um pedaço de código de programa que é:\n",
    "\n",
    "* Uma peça coerente independente de funcionalidade.\n",
    "* Pode ser chamado por outros programas e módulos.\n",
    "* Dados passados usando argumentos (se necessário) pelo módulo de chamada.\n",
    "* Capaz de retornar resultados ao chamador (se necessário)."
   ]
  },
  {
   "attachments": {},
   "cell_type": "markdown",
   "metadata": {},
   "source": [
    "Você já conhece algumas funções internas do Python. Um deles é o função `len()`. Apenas chamamos `len()` e passamos uma sequência como parâmetro. nós não precisamos para escrever nossa própria função `len()`, mas suponha que escrevemos uma própria (para listas e apenas dicionários). Pode ser algo assim:"
   ]
  },
  {
   "cell_type": "code",
   "execution_count": null,
   "metadata": {},
   "outputs": [],
   "source": [
    "def lenDictList(seq):\n",
    "    \n",
    "    if type(seq) not in [list,dict]: # a seq?\n",
    "        return -1 # no - fail!\n",
    "    \n",
    "    nelems=0 # length zero\n",
    "    \n",
    "    for elem in seq: # for elem\n",
    "        nelems+=1 # add one\n",
    "\n",
    "    return nelems # length"
   ]
  },
  {
   "attachments": {},
   "cell_type": "markdown",
   "metadata": {},
   "source": [
    "A linha de cabeçalho tem um formato distinto:\n",
    "\n",
    "* A palavra-chave def para indicar que é uma nova função.\n",
    "* Um nome de função lenDictList (que atenda às regras de nomenclatura de variáveis).\n",
    "* Chaves para incluir os argumentos (nenhum, 1 ou mais).\n",
    "* Dois pontos para indicar o final da linha de cabeçalho.\n",
    "\n",
    "O código dentro da função é recuado. O código usa os argumentos nas definições da função e não precisa defini-los (serão passados pelo módulo chamador). aqui estão alguns exemplos:"
   ]
  },
  {
   "cell_type": "code",
   "execution_count": null,
   "metadata": {},
   "outputs": [],
   "source": [
    "l = [1,2,3,4,5]\n",
    "\n",
    "d = {1:'one', 2:'two', 3:'three'}\n",
    "\n",
    "print(lenDictList(l))\n",
    "print(lenDictList(d))\n",
    "print(lenDictList(34))"
   ]
  },
  {
   "attachments": {},
   "cell_type": "markdown",
   "metadata": {},
   "source": [
    "Observe que o real `len()` lida com qualquer sequência, incluindo tuplas e strings, e não melhor tratamento de erros. Esta é uma versão muito simplificada."
   ]
  },
  {
   "attachments": {},
   "cell_type": "markdown",
   "metadata": {},
   "source": [
    "##### Valores de retorno"
   ]
  },
  {
   "attachments": {},
   "cell_type": "markdown",
   "metadata": {},
   "source": [
    "Os resultados da função são retornados ao chamador usando a instrução return. No exemplo anterior, há um valor de retorno: o comprimento da lista ou dicionário fornecido ou é –1 se o argumento não for nenhum dos dois.\n",
    "\n",
    "Algumas funções não retornam um resultado; eles simplesmente saem. Cabe ao programador escolher como projetar suas funções. Aqui estão alguns exemplos de declarações de retorno."
   ]
  },
  {
   "cell_type": "code",
   "execution_count": null,
   "metadata": {},
   "outputs": [],
   "source": [
    "return\n",
    "return True\n",
    "return False\n",
    "return r1, r2, r3\n",
    "return dict(a=v1,b=v2)\n",
    "# does not return a value\n",
    "# True – perhaps success?\n",
    "# False – perhaps a failure?\n",
    "# returns three results\n",
    "# returns a dictionary"
   ]
  },
  {
   "attachments": {},
   "cell_type": "markdown",
   "metadata": {},
   "source": [
    "##### Chamando uma Função"
   ]
  },
  {
   "attachments": {},
   "cell_type": "markdown",
   "metadata": {},
   "source": [
    "As funções são chamadas usando seu nome e adicionando parênteses entre as variáveis ou valores a serem passados como argumentos. Você já conhece `len()`. As outras funções são inventado para ilustrar como as funções são usadas."
   ]
  },
  {
   "cell_type": "code",
   "execution_count": null,
   "metadata": {},
   "outputs": [],
   "source": [
    "count = len(seq) # length of a sequence\n",
    "\n",
    "\n",
    "# the call below returns three results, the\n",
    "# maximum, the minimum, and the average of\n",
    "# the numbers in a list\n",
    "max, min, average = analyse(numlist)\n",
    "\n",
    "# the next call provides three parameters\n",
    "# and the function calculates a fee\n",
    "fee = calculateFee(hours, rate, taxfactor)"
   ]
  },
  {
   "attachments": {},
   "cell_type": "markdown",
   "metadata": {},
   "source": [
    "##### Named Arguments"
   ]
  },
  {
   "attachments": {},
   "cell_type": "markdown",
   "metadata": {},
   "source": [
    "If a function just has a single argument, then you might not worry what its name is in a\n",
    "function call. Sometimes, though, not all arguments are required to be provided and they\n",
    "can take a default value. In this case you don’t have to provide a value for the argument.\n",
    "If you do name some arguments in the function call, then you must provide the named\n",
    "arguments after the unnamed arguments. Here is an example:"
   ]
  },
  {
   "cell_type": "code",
   "execution_count": null,
   "metadata": {},
   "outputs": [],
   "source": [
    "def fn(a, b, c=1.0):\n",
    "return a*b*c\n",
    "fn(1,2,3)\n",
    "fn(1,2)\n",
    "fn(1,b=2)\n",
    "fn(a=1,b=2,c=3)\n",
    "fn(1,b=2,3)\n",
    "# 1*2*3 = 6\n",
    "# 1*2*1 = 2 – c=default 1.0\n",
    "# 1*2*1 = 2 – same result\n",
    "# 1*2*3 = 6 - as before\n",
    "# error! You must provide\n",
    "# named args *after* unnamed\n",
    "# args"
   ]
  },
  {
   "attachments": {},
   "cell_type": "markdown",
   "metadata": {},
   "source": [
    "##### Variable Scope"
   ]
  },
  {
   "attachments": {},
   "cell_type": "markdown",
   "metadata": {},
   "source": [
    "The variables that are defined and used inside a function are not visible or usable to other\n",
    "functions or code outside the function. However, if you define a variable in a module and\n",
    "call a function inside that module, then that variable is available in the called function. If\n",
    "a variable is defined outside all the functions in a module, the variable is available to all of\n",
    "the functions in the module. 3 For example:"
   ]
  },
  {
   "cell_type": "code",
   "execution_count": null,
   "metadata": {},
   "outputs": [],
   "source": [
    "sharedvar=\"I'm sharable\" # a var shared by both\n",
    "\n",
    "# functions\n",
    "def first():\n",
    "print(sharedvar) # this is OK\n",
    "firstvar='Not shared' # this is unique to first\n",
    "return\n",
    "\n",
    "def second():\n",
    "print(sharedvar) # this is OK\n",
    "print(firstvar) # this would fail!\n",
    "return"
   ]
  },
  {
   "cell_type": "code",
   "execution_count": null,
   "metadata": {},
   "outputs": [],
   "source": [
    "%reload_ext watermark\n",
    "%watermark -a \"Caique Miranda\" -gu \"caiquemiranda\" -iv"
   ]
  },
  {
   "attachments": {},
   "cell_type": "markdown",
   "metadata": {},
   "source": [
    "### End."
   ]
  }
 ],
 "metadata": {
  "language_info": {
   "name": "python"
  },
  "orig_nbformat": 4
 },
 "nbformat": 4,
 "nbformat_minor": 2
}
