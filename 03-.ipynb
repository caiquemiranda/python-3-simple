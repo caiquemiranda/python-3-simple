{
 "cells": [
  {
   "attachments": {},
   "cell_type": "markdown",
   "metadata": {},
   "source": [
    "### Estrutura do Programa"
   ]
  },
  {
   "attachments": {},
   "cell_type": "markdown",
   "metadata": {},
   "source": [
    "#### Tomando uma decisão"
   ]
  },
  {
   "attachments": {},
   "cell_type": "markdown",
   "metadata": {},
   "source": [
    "Alguns utilitários simples podem ser uma pequena lista de instruções executadas em ordem, mas uma programa geralmente precisa tomar decisões e fazer escolhas. A tomada de decisão em um programa determina o caminho que o programa segue. As decisões são tomadas por declarações if."
   ]
  },
  {
   "attachments": {},
   "cell_type": "markdown",
   "metadata": {},
   "source": [
    "##### A instrução if"
   ]
  },
  {
   "attachments": {},
   "cell_type": "markdown",
   "metadata": {},
   "source": [
    "Se as instruções dependem de alguma forma de teste ou condição. O formato normal de um if declaração é mostrada aqui:"
   ]
  },
  {
   "cell_type": "code",
   "execution_count": null,
   "metadata": {},
   "outputs": [],
   "source": [
    "if teste: # observe os dois pontos ':'.\n",
    "    # As declarações após a declaração \n",
    "    # if são recuados e executados \n",
    "    # se o teste for True.\n",
    "    \n",
    "    declaracao_1\n",
    "    declaração_2\n",
    "    declaracao_3\n",
    "    pass"
   ]
  },
  {
   "attachments": {},
   "cell_type": "markdown",
   "metadata": {},
   "source": [
    "Nesse caso, as três instruções são executadas se test for True . Caso contrário, estes as instruções são ignoradas e o interpretador pula para a instrução seguinte ao bloco de código.\n",
    "\n",
    "Frequentemente, o resultado Falso do teste tem seu próprio bloco de código, como segue:"
   ]
  },
  {
   "cell_type": "code",
   "execution_count": null,
   "metadata": {},
   "outputs": [],
   "source": [
    "if teste: # observe os dois pontos ':'.\n",
    "    FacaIsso() # FacaIsso() ... se o teste = True\n",
    "\n",
    "else: # observe os dois pontos após 'else'.\n",
    "    FacaIsso() # FaçaIsso() ... se o teste = False"
   ]
  },
  {
   "attachments": {},
   "cell_type": "markdown",
   "metadata": {},
   "source": [
    "A palavra-chave else: separa o resultado verdadeiro do teste do resultado falso do teste e instrui o compilador a usar o bloco de código alternativo: `FacaAquilo()`.\n",
    "\n",
    "Até agora, vimos uma decisão binária com apenas um resultado Verdadeiro e um Falso. Alguns Se as instruções fazem uma escolha entre mais de duas alternativas. Neste caso, o elif: palavra-chave separa as diferentes escolhas e o resto: palavra-chave é a escolha final se não outro teste é cumprido. Por exemplo:"
   ]
  },
  {
   "cell_type": "code",
   "execution_count": null,
   "metadata": {},
   "outputs": [],
   "source": [
    "if code == 'RED':\n",
    "    SoundRedAlert()\n",
    "elif code == 'AMBER':\n",
    "    GiveWarning()\n",
    "else:\n",
    "    pass"
   ]
  },
  {
   "attachments": {},
   "cell_type": "markdown",
   "metadata": {},
   "source": [
    "##### A declaração pass"
   ]
  },
  {
   "attachments": {},
   "cell_type": "markdown",
   "metadata": {},
   "source": [
    "No exemplo anterior, dependendo do valor de code , o programa faz uma escolha\n",
    "fazer alguma coisa, mas a terceira opção era passar. A declaração de passagem é um “não faça nada” declaração. A terceira cláusula ( else ) não é estritamente necessária, mas pass costuma ser útil para mostre explicitamente o que o programa está fazendo (ou não fazendo)."
   ]
  },
  {
   "attachments": {},
   "cell_type": "markdown",
   "metadata": {},
   "source": [
    "##### Tipos de teste"
   ]
  },
  {
   "attachments": {},
   "cell_type": "markdown",
   "metadata": {},
   "source": [
    "Os testes aplicados em uma instrução if podem assumir várias formas, mas os padrões principais estão resumidos aqui."
   ]
  },
  {
   "cell_type": "code",
   "execution_count": null,
   "metadata": {},
   "outputs": [],
   "source": [
    "var1 = 1\n",
    "var2 = 2"
   ]
  },
  {
   "cell_type": "code",
   "execution_count": null,
   "metadata": {},
   "outputs": [],
   "source": [
    "# Comparações\n",
    "\n",
    "var1 > var2 # maior que\n",
    "var1 == var2 # igual a\n",
    "var1 != var2 # diferente de"
   ]
  },
  {
   "cell_type": "code",
   "execution_count": null,
   "metadata": {},
   "outputs": [],
   "source": [
    "var = 1\n",
    "seq = [1, 2, 3, 4, 5]"
   ]
  },
  {
   "cell_type": "code",
   "execution_count": null,
   "metadata": {},
   "outputs": [],
   "source": [
    "# Associação de sequência (lista, tupla ou dicionário)\n",
    "\n",
    "var in seq\n",
    "var not in seq"
   ]
  },
  {
   "cell_type": "code",
   "execution_count": null,
   "metadata": {},
   "outputs": [],
   "source": [
    "x = [1, 2, 3, \n",
    "     4, 5, 6,\n",
    "     7, 8 ,9]"
   ]
  },
  {
   "cell_type": "code",
   "execution_count": null,
   "metadata": {},
   "outputs": [],
   "source": [
    "# Comprimento da sequência\n",
    "\n",
    "len(x) > 0 # sequência tem entradas?"
   ]
  },
  {
   "cell_type": "code",
   "execution_count": null,
   "metadata": {},
   "outputs": [],
   "source": [
    "# valor booleano\n",
    "\n",
    "arquivoaberto # fileopen == Verdadeiro?\n",
    "not arquivoaberto # arquivoaberto == Falso?"
   ]
  },
  {
   "cell_type": "code",
   "execution_count": null,
   "metadata": {},
   "outputs": [],
   "source": [
    "# Tem valor?\n",
    "\n",
    "var # não Nenhum (ou zero ou '')"
   ]
  },
  {
   "cell_type": "code",
   "execution_count": null,
   "metadata": {},
   "outputs": [],
   "source": [
    "# Validação\n",
    "\n",
    "var.isalpha() # alfanumérico?\n",
    "var.isdigit() # são todos dígitos?"
   ]
  },
  {
   "cell_type": "code",
   "execution_count": null,
   "metadata": {},
   "outputs": [],
   "source": [
    "# Cálculos\n",
    "\n",
    "(preço*quantidade) > 100,0 # custo > 100?\n",
    "(custo-orçamento) > 0,0 # overbudget?"
   ]
  },
  {
   "attachments": {},
   "cell_type": "markdown",
   "metadata": {},
   "source": [
    "No caso de cálculos, geralmente é melhor usar chaves para forçar os cálculos do que confiar na precedência do operador padrão.\n",
    "\n",
    "Algumas decisões são mais complexas e requerem vários testes para serem implementadas. Para\n",
    "exemplo:"
   ]
  },
  {
   "cell_type": "code",
   "execution_count": null,
   "metadata": {},
   "outputs": [],
   "source": [
    "if hungry and foodInFridge and notTooTired:\n",
    "    cookAMeal()\n",
    "else:\n",
    "    getTakeAway()"
   ]
  },
  {
   "attachments": {},
   "cell_type": "markdown",
   "metadata": {},
   "source": [
    "In this case, the and operator joins the three conditions and all must be True for\n",
    "cookAMeal() to be executed.\n",
    "\n",
    "There are three logical operators— and , or , and not —that can be used to link\n",
    "decisions.\n",
    "\n",
    "Decisions can be nested; that is, they can appear inside the indented code blocks of\n",
    "other decisions. For example:"
   ]
  },
  {
   "cell_type": "code",
   "execution_count": null,
   "metadata": {},
   "outputs": [],
   "source": [
    "if age>19:\n",
    "    if carValue>10000:\n",
    "        if gotConvictions:\n",
    "            rejectInsuranceApplication()"
   ]
  },
  {
   "attachments": {},
   "cell_type": "markdown",
   "metadata": {},
   "source": [
    "#### Loops and Iteration"
   ]
  },
  {
   "attachments": {},
   "cell_type": "markdown",
   "metadata": {},
   "source": [
    "Some features need to perform activities repetitively to process a number of items,\n",
    "including the following:\n",
    "\n",
    "* Lists of values.\n",
    "* Entries in a dictionary.\n",
    "* Rows of data in a database.\n",
    "* Lines of text in a disk file.\n",
    "\n",
    "These constructs, usually called loops , perform a defined code block repeatedly\n",
    "on some item of data until some condition or test is met (or not met). These loops are\n",
    "implemented using for and while statements."
   ]
  },
  {
   "attachments": {},
   "cell_type": "markdown",
   "metadata": {},
   "source": [
    "##### For Statement"
   ]
  },
  {
   "attachments": {},
   "cell_type": "markdown",
   "metadata": {},
   "source": [
    "T he f or statement acts as a header statement for a code block that is to be executed until\n",
    "some condition is met. The for statement operates on an iterable set of elements, often a\n",
    "sequence."
   ]
  },
  {
   "cell_type": "code",
   "execution_count": null,
   "metadata": {},
   "outputs": [],
   "source": [
    "theTeam=['Julia','Jane','Tom','Dick','Harry']\n",
    "for person in theTeam:\n",
    "    print('%s is in the team' % person)"
   ]
  },
  {
   "attachments": {},
   "cell_type": "markdown",
   "metadata": {},
   "source": [
    "The general format is 'for var in seq:' .\n",
    "\n",
    "For each iteration through the members of the sequence, the variable var takes the\n",
    "value of the entry in the list or tuple, or it takes the value of the key in a dictionary.\n",
    "\n",
    "Sometimes we don’t want to iterate through a list or dictionary, but we want to\n",
    "execute a loop a specific number of times. Python provides a useful range() function\n",
    "that generates an iterable list of specific size for us. It can take three arguments— start ,\n",
    "end , and step —that specify the first number, the maximum number, and the increment\n",
    "between elements in the generated range, respectively. If you provide just one number\n",
    "argument, it creates a list with that number of integer elements starting with zero."
   ]
  },
  {
   "cell_type": "code",
   "execution_count": null,
   "metadata": {},
   "outputs": [],
   "source": [
    ">>> range(10)\n",
    "range(0,10) # a list of ten elements 0-9"
   ]
  },
  {
   "cell_type": "code",
   "execution_count": null,
   "metadata": {},
   "outputs": [],
   "source": [
    "\n",
    ">>> range(1,10) # default step=1\n",
    "range(1,10) # list: [1,2,3,4,5,6,7,8,9]\n"
   ]
  },
  {
   "cell_type": "code",
   "execution_count": null,
   "metadata": {},
   "outputs": [],
   "source": [
    ">>> range(1,20,3) # steps of 3\n",
    "range(1,20,3) # list: [1,4,7,10,13,16,19]\n"
   ]
  },
  {
   "cell_type": "code",
   "execution_count": null,
   "metadata": {},
   "outputs": [],
   "source": [
    ">>> for i in range(3):\n",
    "... print(i)"
   ]
  },
  {
   "attachments": {},
   "cell_type": "markdown",
   "metadata": {},
   "source": [
    "##### While Statement"
   ]
  },
  {
   "attachments": {},
   "cell_type": "markdown",
   "metadata": {},
   "source": [
    "T he w hile statement is similar to the f or statement in that it provides a header statement\n",
    "for a code block to be repeated a number of times. Instead of an iterable set of elements,\n",
    "the while statement repeats the loop until a test is not met."
   ]
  },
  {
   "cell_type": "code",
   "execution_count": null,
   "metadata": {},
   "outputs": [],
   "source": [
    "n=4\n",
    "while n>0:\n",
    "    print(n)\n",
    "    n-=1"
   ]
  },
  {
   "attachments": {},
   "cell_type": "markdown",
   "metadata": {},
   "source": [
    "Often, the condition to be met is a counter that is decremented in the loop or\n",
    "a Boolean value the value of which is changed inside the loop, and then the loop is\n",
    "terminated."
   ]
  },
  {
   "cell_type": "code",
   "execution_count": null,
   "metadata": {},
   "outputs": [],
   "source": [
    "foundSmith=False\n",
    "while not foundSmith:\n",
    "    name=getNextName() # get next person record\n",
    "    if name=='smith': # name is 'smith'?\n",
    "        foundSmith=True"
   ]
  },
  {
   "attachments": {},
   "cell_type": "markdown",
   "metadata": {},
   "source": [
    "##### Break Statement"
   ]
  },
  {
   "attachments": {},
   "cell_type": "markdown",
   "metadata": {},
   "source": [
    "A break statement is used to terminate the current loop and continue to the next\n",
    "statement after the for or while code block."
   ]
  },
  {
   "cell_type": "code",
   "execution_count": null,
   "metadata": {},
   "outputs": [],
   "source": [
    "1 while True: # this is an infinite loop\n",
    "2 command=input('Enter command:')\n",
    "3 if command=='exit': # infinite till user exits\n",
    "4 break # skips to line 7\n",
    "5 else:\n",
    "6 doCommand(command) # execute command\n",
    "7 print('bye')"
   ]
  },
  {
   "attachments": {},
   "cell_type": "markdown",
   "metadata": {},
   "source": [
    "##### Continue Statement"
   ]
  },
  {
   "attachments": {},
   "cell_type": "markdown",
   "metadata": {},
   "source": [
    "A continue statement is used in the code block of a loop to exit from the current code\n",
    "block and skip to the next iteration of the loop. The while or for loop test is checked as\n",
    "normal."
   ]
  },
  {
   "cell_type": "code",
   "execution_count": null,
   "metadata": {},
   "outputs": [],
   "source": [
    "1 while True: # this is an infinite loop\n",
    "2 command=input('Enter command:')\n",
    "3 if len(command)==0: # no command - try again\n",
    "4 continue # goes to next loop (line 1)\n",
    "5 elif command=='exit': # user exit\n",
    "6 print('Goodbye')\n",
    "7 break # skips to line 10\n",
    "8 else:\n",
    "9 doCommand(command)\n",
    "10 print('bye')"
   ]
  },
  {
   "attachments": {},
   "cell_type": "markdown",
   "metadata": {},
   "source": [
    "##### List Comprehensions"
   ]
  },
  {
   "attachments": {},
   "cell_type": "markdown",
   "metadata": {},
   "source": [
    "A list comprehension (also known as a listcomp ) is a way of dynamically creating a list of\n",
    "elements in an elegant shorthand. Suppose you wanted to create a list of the squares of\n",
    "the first ten integers. You could use this code:"
   ]
  },
  {
   "cell_type": "code",
   "execution_count": null,
   "metadata": {},
   "outputs": [],
   "source": [
    "squares=[]\n",
    "for i in range(1,11):\n",
    "squares.append(i*i)"
   ]
  },
  {
   "attachments": {},
   "cell_type": "markdown",
   "metadata": {},
   "source": [
    "Or you could use this:"
   ]
  },
  {
   "cell_type": "code",
   "execution_count": null,
   "metadata": {},
   "outputs": [],
   "source": [
    "squares=[i*i for i in range(1,11)]"
   ]
  },
  {
   "attachments": {},
   "cell_type": "markdown",
   "metadata": {},
   "source": [
    "The syntax for listcomps is:"
   ]
  },
  {
   "cell_type": "code",
   "execution_count": null,
   "metadata": {},
   "outputs": [],
   "source": [
    "[expr for element in iterable if condition]"
   ]
  },
  {
   "attachments": {},
   "cell_type": "markdown",
   "metadata": {},
   "source": [
    "The if condition can be used to select elements from the iterable. Here are some\n",
    "examples of this syntax in use:"
   ]
  },
  {
   "cell_type": "code",
   "execution_count": null,
   "metadata": {},
   "outputs": [],
   "source": [
    "# a list of even numbers between 1 and 100\n",
    "evens = [i for i in range(1,100) if not i % 2]"
   ]
  },
  {
   "cell_type": "code",
   "execution_count": null,
   "metadata": {},
   "outputs": [],
   "source": [
    "# a list of strings in lines containing 'True'\n",
    "trulines = [l for l in lines if l.find('True')>-1]"
   ]
  },
  {
   "attachments": {},
   "cell_type": "markdown",
   "metadata": {},
   "source": [
    "#### Using Functions"
   ]
  },
  {
   "attachments": {},
   "cell_type": "markdown",
   "metadata": {},
   "source": [
    "##### Why Write Functions?"
   ]
  },
  {
   "attachments": {},
   "cell_type": "markdown",
   "metadata": {},
   "source": [
    "When you write more complicated programs, you can choose to write them in long,\n",
    "complicated modules, but complicated modules are harder to write and difficult to\n",
    "understand. A better approach is to modularize a complicated program into smaller,\n",
    "simpler, more focused modules and functions .\n",
    "\n",
    "The main motivation for splitting large programs into modules and functions is to\n",
    "better manage the complexity of the process."
   ]
  },
  {
   "attachments": {},
   "cell_type": "markdown",
   "metadata": {},
   "source": [
    "• Modularization “divides and conquers” the complexity into\n",
    "smaller chunks of less complex code, so design is easier.\n",
    "• Functions that do one thing well are easier to understand and can\n",
    "be very useful to you and other programmers.\n",
    "• Functions can often be reused in different parts of a system to\n",
    "avoid duplicating code.\n",
    "• If you want to change some behavior, if it’s in a function, you only\n",
    "need to change code in one place.\n",
    "• Smaller functions are easier to test, debug, and get working."
   ]
  },
  {
   "attachments": {},
   "cell_type": "markdown",
   "metadata": {},
   "source": [
    "Importantly, if you choose to use a function written by someone else, you shouldn’t\n",
    "need to worry too much how it works, but you need to trust it."
   ]
  },
  {
   "attachments": {},
   "cell_type": "markdown",
   "metadata": {},
   "source": [
    "##### What Is a Function?"
   ]
  },
  {
   "attachments": {},
   "cell_type": "markdown",
   "metadata": {},
   "source": [
    "A function is a piece of program code that is:\n",
    "\n",
    "• A self-contained coherent piece of functionality.\n",
    "• Callable by other programs and modules.\n",
    "• Passed data using arguments (if required) by the calling module.\n",
    "• Capable of returning results to its caller (if required)."
   ]
  },
  {
   "attachments": {},
   "cell_type": "markdown",
   "metadata": {},
   "source": [
    "You already know about quite a few built-in Python functions. One of these is the\n",
    "len() function. We just call len() and pass a sequence as a parameter. We don’t need\n",
    "to write our own len() function, but suppose we did write one of our own (for lists and\n",
    "dictionaries only). It might look something like this:"
   ]
  },
  {
   "cell_type": "code",
   "execution_count": null,
   "metadata": {},
   "outputs": [],
   "source": [
    "def lenDictList(seq):\n",
    "... if type(seq) not in [list,dict]: # a seq?\n",
    "... return -1 # no - fail!\n",
    "... nelems=0 # length zero\n",
    "... for elem in seq: # for elem\n",
    "... nelems+=1 # add one\n",
    "...\n",
    "... return nelems # length"
   ]
  },
  {
   "attachments": {},
   "cell_type": "markdown",
   "metadata": {},
   "source": [
    "The header line has a distinct format:\n",
    "\n",
    "• The keyword def to signify it is a new function.\n",
    "• A function name lenDictList (that meets the variable naming\n",
    "rules).\n",
    "• Braces to enclose the arguments (none, 1 or more).\n",
    "• A colon to denote the end of the header line.\n",
    "\n",
    "The code inside the function is indented. The code uses the arguments in the\n",
    "function definitions and does not need to define them (they will be passed by the calling\n",
    "module). Here are some examples:"
   ]
  },
  {
   "cell_type": "code",
   "execution_count": null,
   "metadata": {},
   "outputs": [],
   "source": [
    "l = [1,2,3,4,5]\n",
    ">>> d = {1:'one',2:'two',3:'three'}\n",
    ">>> lenDictList(l)\n",
    ">>> lenDictList(d)\n",
    "3\n",
    ">>> lenDictList(34)"
   ]
  },
  {
   "attachments": {},
   "cell_type": "markdown",
   "metadata": {},
   "source": [
    "Note that the real len() handles any sequence including tuples and strings and does\n",
    "better error-handling. This is a much oversimplified version."
   ]
  },
  {
   "attachments": {},
   "cell_type": "markdown",
   "metadata": {},
   "source": [
    "##### Return Values"
   ]
  },
  {
   "attachments": {},
   "cell_type": "markdown",
   "metadata": {},
   "source": [
    "The results of the function are returned to the caller using the return statement. In the\n",
    "preceding example, there is one return value: the length of the list or dictionary provided\n",
    "or it is –1 if the argument is neither.\n",
    "Some functions do not return a result; they simply exit.\n",
    "It is for the programmer to choose how to design his or her functions. Here are some\n",
    "example return statements."
   ]
  },
  {
   "attachments": {},
   "cell_type": "markdown",
   "metadata": {},
   "source": [
    "The results of the function are returned to the caller using the return statement. In the\n",
    "preceding example, there is one return value: the length of the list or dictionary provided\n",
    "or it is –1 if the argument is neither.\n",
    "\n",
    "Some functions do not return a result; they simply exit.\n",
    "It is for the programmer to choose how to design his or her functions. Here are some\n",
    "example return statements."
   ]
  },
  {
   "cell_type": "code",
   "execution_count": null,
   "metadata": {},
   "outputs": [],
   "source": [
    "return\n",
    "return True\n",
    "return False\n",
    "return r1, r2, r3\n",
    "return dict(a=v1,b=v2)\n",
    "# does not return a value\n",
    "# True – perhaps success?\n",
    "# False – perhaps a failure?\n",
    "# returns three results\n",
    "# returns a dictionary"
   ]
  },
  {
   "attachments": {},
   "cell_type": "markdown",
   "metadata": {},
   "source": [
    "##### Calling a Function"
   ]
  },
  {
   "attachments": {},
   "cell_type": "markdown",
   "metadata": {},
   "source": [
    "Functions are called by using their name and adding parentheses enclosing the variables\n",
    "or values to be passed as arguments. You know len() already. The other functions are\n",
    "invented to illustrate how functions are used."
   ]
  },
  {
   "cell_type": "code",
   "execution_count": null,
   "metadata": {},
   "outputs": [],
   "source": [
    ">>> count = len(seq) # length of a sequence\n",
    ">>>\n",
    ">>> # the call below returns three results, the\n",
    ">>> # maximum, the minimum, and the average of\n",
    ">>> # the numbers in a list\n",
    ">>> max, min, average = analyse(numlist)\n",
    ">>>\n",
    ">>> # the next call provides three parameters\n",
    ">>> # and the function calculates a fee\n",
    ">>> fee = calculateFee(hours, rate, taxfactor)"
   ]
  },
  {
   "attachments": {},
   "cell_type": "markdown",
   "metadata": {},
   "source": [
    "##### Named Arguments"
   ]
  },
  {
   "attachments": {},
   "cell_type": "markdown",
   "metadata": {},
   "source": [
    "If a function just has a single argument, then you might not worry what its name is in a\n",
    "function call. Sometimes, though, not all arguments are required to be provided and they\n",
    "can take a default value. In this case you don’t have to provide a value for the argument.\n",
    "If you do name some arguments in the function call, then you must provide the named\n",
    "arguments after the unnamed arguments. Here is an example:"
   ]
  },
  {
   "cell_type": "code",
   "execution_count": null,
   "metadata": {},
   "outputs": [],
   "source": [
    "def fn(a, b, c=1.0):\n",
    "return a*b*c\n",
    "fn(1,2,3)\n",
    "fn(1,2)\n",
    "fn(1,b=2)\n",
    "fn(a=1,b=2,c=3)\n",
    "fn(1,b=2,3)\n",
    "# 1*2*3 = 6\n",
    "# 1*2*1 = 2 – c=default 1.0\n",
    "# 1*2*1 = 2 – same result\n",
    "# 1*2*3 = 6 - as before\n",
    "# error! You must provide\n",
    "# named args *after* unnamed\n",
    "# args"
   ]
  },
  {
   "attachments": {},
   "cell_type": "markdown",
   "metadata": {},
   "source": [
    "##### Variable Scope"
   ]
  },
  {
   "attachments": {},
   "cell_type": "markdown",
   "metadata": {},
   "source": [
    "The variables that are defined and used inside a function are not visible or usable to other\n",
    "functions or code outside the function. However, if you define a variable in a module and\n",
    "call a function inside that module, then that variable is available in the called function. If\n",
    "a variable is defined outside all the functions in a module, the variable is available to all of\n",
    "the functions in the module. 3 For example:"
   ]
  },
  {
   "cell_type": "code",
   "execution_count": null,
   "metadata": {},
   "outputs": [],
   "source": [
    "sharedvar=\"I'm sharable\" # a var shared by both\n",
    "\n",
    "# functions\n",
    "def first():\n",
    "print(sharedvar) # this is OK\n",
    "firstvar='Not shared' # this is unique to first\n",
    "return\n",
    "\n",
    "def second():\n",
    "print(sharedvar) # this is OK\n",
    "print(firstvar) # this would fail!\n",
    "return"
   ]
  },
  {
   "cell_type": "code",
   "execution_count": null,
   "metadata": {},
   "outputs": [],
   "source": [
    "%reload_ext watermark\n",
    "%watermark -a \"Caique Miranda\" -gu \"caiquemiranda\" -iv"
   ]
  },
  {
   "attachments": {},
   "cell_type": "markdown",
   "metadata": {},
   "source": [
    "### End."
   ]
  }
 ],
 "metadata": {
  "language_info": {
   "name": "python"
  },
  "orig_nbformat": 4
 },
 "nbformat": 4,
 "nbformat_minor": 2
}
